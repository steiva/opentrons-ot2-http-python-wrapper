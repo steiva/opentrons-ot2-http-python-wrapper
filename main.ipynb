{
 "cells": [
  {
   "cell_type": "markdown",
   "metadata": {},
   "source": [
    "# Imports"
   ]
  },
  {
   "cell_type": "code",
   "execution_count": 35,
   "metadata": {},
   "outputs": [],
   "source": [
    "import requests\n",
    "import keyboard\n",
    "import json\n",
    "from ot2_api import OpentronsAPI\n",
    "import numpy as np\n",
    "import time\n",
    "import cv2"
   ]
  },
  {
   "cell_type": "markdown",
   "metadata": {},
   "source": [
    "# API commands"
   ]
  },
  {
   "cell_type": "code",
   "execution_count": 2,
   "metadata": {},
   "outputs": [],
   "source": [
    "#Initialize the API.\n",
    "openapi = OpentronsAPI()"
   ]
  },
  {
   "cell_type": "code",
   "execution_count": 3,
   "metadata": {},
   "outputs": [],
   "source": [
    "#Toggle the lights on the robot. Can be used to check if the robot is connected.\n",
    "openapi.toggle_lights()"
   ]
  },
  {
   "cell_type": "code",
   "execution_count": 4,
   "metadata": {},
   "outputs": [
    {
     "name": "stdout",
     "output_type": "stream",
     "text": [
      "Request status:\n",
      "<Response [200]>\n",
      "{\n",
      "  \"message\": \"Homing robot.\"\n",
      "}\n"
     ]
    }
   ],
   "source": [
    "#Home the robot.\n",
    "openapi.home_robot()"
   ]
  },
  {
   "cell_type": "code",
   "execution_count": 5,
   "metadata": {},
   "outputs": [
    {
     "name": "stdout",
     "output_type": "stream",
     "text": [
      "Request status:\n",
      "<Response [201]>\n",
      "{\n",
      "  \"data\": {\n",
      "    \"id\": \"aa25a314-49f3-4051-9227-84763b9e937c\",\n",
      "    \"ok\": true,\n",
      "    \"createdAt\": \"2024-08-09T05:22:29.432713+00:00\",\n",
      "    \"status\": \"idle\",\n",
      "    \"current\": true,\n",
      "    \"actions\": [],\n",
      "    \"errors\": [],\n",
      "    \"pipettes\": [],\n",
      "    \"modules\": [],\n",
      "    \"labware\": [],\n",
      "    \"liquids\": [],\n",
      "    \"labwareOffsets\": [],\n",
      "    \"runTimeParameters\": []\n",
      "  }\n",
      "}\n"
     ]
    }
   ],
   "source": [
    "#Create a run.\n",
    "openapi.create_run()"
   ]
  },
  {
   "cell_type": "code",
   "execution_count": 6,
   "metadata": {},
   "outputs": [
    {
     "name": "stdout",
     "output_type": "stream",
     "text": [
      "Request status:\n",
      "<Response [201]>\n",
      "{\n",
      "  \"data\": {\n",
      "    \"id\": \"a1485067-cd2c-446e-84f3-059e0c91d200\",\n",
      "    \"createdAt\": \"2024-08-09T05:22:33.282368+00:00\",\n",
      "    \"commandType\": \"loadPipette\",\n",
      "    \"key\": \"a1485067-cd2c-446e-84f3-059e0c91d200\",\n",
      "    \"status\": \"succeeded\",\n",
      "    \"params\": {\n",
      "      \"pipetteName\": \"p300_single_gen2\",\n",
      "      \"mount\": \"left\"\n",
      "    },\n",
      "    \"result\": {\n",
      "      \"pipetteId\": \"82b1a35b-3d94-4c9b-82a3-adc86511219a\"\n",
      "    },\n",
      "    \"startedAt\": \"2024-08-09T05:22:33.284545+00:00\",\n",
      "    \"completedAt\": \"2024-08-09T05:22:35.331149+00:00\",\n",
      "    \"intent\": \"setup\",\n",
      "    \"notes\": []\n",
      "  }\n",
      "}\n"
     ]
    }
   ],
   "source": [
    "#Load the pipette. Mount = \"left\" by default.\n",
    "openapi.load_pipette()"
   ]
  },
  {
   "cell_type": "code",
   "execution_count": 7,
   "metadata": {},
   "outputs": [
    {
     "name": "stdout",
     "output_type": "stream",
     "text": [
      "Total number of runs: 20\n",
      "Current run ID: aa25a314-49f3-4051-9227-84763b9e937c\n",
      "Current run status: idle\n"
     ]
    }
   ],
   "source": [
    "#Gets basic info about the runs on the robot.\n",
    "_ = openapi.get_run_info()"
   ]
  },
  {
   "cell_type": "code",
   "execution_count": 14,
   "metadata": {},
   "outputs": [
    {
     "name": "stdout",
     "output_type": "stream",
     "text": [
      "Request status:\n",
      "<Response [200]>\n",
      "{}\n"
     ]
    }
   ],
   "source": [
    "#Allows the user to delete a run.\n",
    "runs_url = f\"http://{openapi.ROBOT_IP}:31950/runs\"\n",
    "delete_run_url = f\"{runs_url}/{openapi.run_id}\"\n",
    "\n",
    "r = requests.delete(\n",
    "\turl=delete_run_url,\n",
    "\theaders=openapi.HEADERS\n",
    "\t)\n",
    "\n",
    "print(f\"Request status:\\n{r}\\n{r.text}\")"
   ]
  },
  {
   "cell_type": "code",
   "execution_count": 8,
   "metadata": {},
   "outputs": [
    {
     "name": "stdout",
     "output_type": "stream",
     "text": [
      "Labware ID:\n",
      "0f11803a-6158-4047-9f4c-3d95461392cc\n",
      "\n"
     ]
    }
   ],
   "source": [
    "#Define a tip rack. This is the default tip rack for the robot.\n",
    "TIP_RACK = \"opentrons_96_tiprack_300ul\"\n",
    "#Load the tip rack. Slot = 1 by default.\n",
    "openapi.load_labware(TIP_RACK, 1)"
   ]
  },
  {
   "cell_type": "code",
   "execution_count": 28,
   "metadata": {},
   "outputs": [],
   "source": [
    "#Pick up a tip from the tip rack defined above. Tip well = \"A1\" by default.\n",
    "openapi.pick_up_tip(openapi.labware_dct['1'], 'A1')"
   ]
  },
  {
   "cell_type": "code",
   "execution_count": 13,
   "metadata": {},
   "outputs": [],
   "source": [
    "#Drop the tip back into the tip rack at the same position.\n",
    "openapi.drop_tip(openapi.labware_dct['1'], 'A1')"
   ]
  },
  {
   "cell_type": "code",
   "execution_count": 98,
   "metadata": {},
   "outputs": [],
   "source": [
    "\n",
    "class ManualRobotMovement:\n",
    "    def __init__(self, openapi):\n",
    "        self.openapi = openapi\n",
    "        self.positions = []\n",
    "        self.step = 1\n",
    "\n",
    "        # Register the key bindings\n",
    "        keyboard.on_press_key('up', lambda _: self.move_forward())\n",
    "        keyboard.on_press_key('down', lambda _: self.move_backward())\n",
    "        keyboard.on_press_key('left', lambda _: self.move_left())\n",
    "        keyboard.on_press_key('right', lambda _: self.move_right())\n",
    "        keyboard.on_press_key('+', lambda _: self.increase_step())\n",
    "        keyboard.on_press_key('-', lambda _: self.decrease_step())\n",
    "        keyboard.on_press_key('s', lambda _: self.save_position())\n",
    "        keyboard.on_press_key('pagedown', lambda _: self.move_z_down())\n",
    "        keyboard.on_press_key('pageup', lambda _: self.move_z_up())\n",
    "        # Keep the program running until 'q' is pressed\n",
    "        keyboard.wait('q')\n",
    "        keyboard.unhook_all()\n",
    "\n",
    "    def move_z_down(self):\n",
    "        self.openapi.move_relative('z', -self.step)\n",
    "\n",
    "    def move_z_up(self):\n",
    "        self.openapi.move_relative('z', self.step)\n",
    "\n",
    "    def move_forward(self):\n",
    "        self.openapi.move_relative('y', self.step)\n",
    "\n",
    "    def move_backward(self):\n",
    "        self.openapi.move_relative('y', -self.step)\n",
    "\n",
    "    def move_left(self):\n",
    "        self.openapi.move_relative('x', -self.step)\n",
    "\n",
    "    def move_right(self):\n",
    "        self.openapi.move_relative('x', self.step)\n",
    "\n",
    "    def increase_step(self):\n",
    "        self.step *= 10\n",
    "        print(f'Step: {self.step}')\n",
    "\n",
    "    def decrease_step(self):\n",
    "        self.step /= 10\n",
    "        print(f'Step: {self.step}')\n",
    "\n",
    "    def save_position(self):\n",
    "        position = self.openapi.get_position()\n",
    "        self.positions.append((position['x'], position['y'], position['z']))\n",
    "        print(f\"Saved position: {position}\")\n",
    "\n",
    "\n",
    "# Create an instance of the ManualRobotMovement class\n",
    "manual_movement = ManualRobotMovement(openapi)"
   ]
  },
  {
   "cell_type": "code",
   "execution_count": 21,
   "metadata": {},
   "outputs": [
    {
     "name": "stdout",
     "output_type": "stream",
     "text": [
      "Request status:\n",
      "<Response [201]>\n",
      "{\n",
      "  \"data\": {\n",
      "    \"id\": \"18cf2ef5-3b25-4218-b9e8-56856f321696\",\n",
      "    \"createdAt\": \"2024-08-09T05:46:47.495500+00:00\",\n",
      "    \"commandType\": \"moveToCoordinates\",\n",
      "    \"key\": \"18cf2ef5-3b25-4218-b9e8-56856f321696\",\n",
      "    \"status\": \"succeeded\",\n",
      "    \"params\": {\n",
      "      \"minimumZHeight\": 1.0,\n",
      "      \"forceDirect\": false,\n",
      "      \"pipetteId\": \"82b1a35b-3d94-4c9b-82a3-adc86511219a\",\n",
      "      \"coordinates\": {\n",
      "        \"x\": 55.0,\n",
      "        \"y\": 220.0,\n",
      "        \"z\": 100.0\n",
      "      }\n",
      "    },\n",
      "    \"result\": {\n",
      "      \"position\": {\n",
      "        \"x\": 55.0,\n",
      "        \"y\": 220.0,\n",
      "        \"z\": 100.0\n",
      "      }\n",
      "    },\n",
      "    \"startedAt\": \"2024-08-09T05:46:47.497772+00:00\",\n",
      "    \"completedAt\": \"2024-08-09T05:46:48.403448+00:00\",\n",
      "    \"intent\": \"setup\",\n",
      "    \"notes\": []\n",
      "  }\n",
      "}\n"
     ]
    }
   ],
   "source": [
    "# Instruct the robot to move to a specific position using x,y,z coordinates. \n",
    "openapi.move_to_coordinates((55,220,100), min_z_height=1)"
   ]
  },
  {
   "cell_type": "code",
   "execution_count": 100,
   "metadata": {},
   "outputs": [],
   "source": [
    "np.save('marker_positions.npy', np.array(manual_movement.positions) )"
   ]
  },
  {
   "cell_type": "code",
   "execution_count": 29,
   "metadata": {},
   "outputs": [],
   "source": [
    "tf_mtx = np.load('./tf_mtx.npy')\n",
    "cX, cY = (1311, 925)\n",
    "X, Y, _ = tf_mtx @ (cX, cY, 1)"
   ]
  },
  {
   "cell_type": "code",
   "execution_count": 27,
   "metadata": {},
   "outputs": [
    {
     "data": {
      "text/plain": [
       "(33.78384420804972, 341.04063282572406)"
      ]
     },
     "execution_count": 27,
     "metadata": {},
     "output_type": "execute_result"
    }
   ],
   "source": [
    "X,Y"
   ]
  },
  {
   "cell_type": "code",
   "execution_count": 34,
   "metadata": {},
   "outputs": [
    {
     "name": "stdout",
     "output_type": "stream",
     "text": [
      "Request status:\n",
      "<Response [201]>\n",
      "{\n",
      "  \"data\": {\n",
      "    \"id\": \"d312e75a-6323-4099-825d-102883dbc501\",\n",
      "    \"createdAt\": \"2024-08-09T06:39:57.749568+00:00\",\n",
      "    \"commandType\": \"moveToCoordinates\",\n",
      "    \"key\": \"d312e75a-6323-4099-825d-102883dbc501\",\n",
      "    \"status\": \"succeeded\",\n",
      "    \"params\": {\n",
      "      \"minimumZHeight\": 1.0,\n",
      "      \"forceDirect\": false,\n",
      "      \"pipetteId\": \"82b1a35b-3d94-4c9b-82a3-adc86511219a\",\n",
      "      \"coordinates\": {\n",
      "        \"x\": 63.838585693586815,\n",
      "        \"y\": 316.11564044403696,\n",
      "        \"z\": 100.0\n",
      "      }\n",
      "    },\n",
      "    \"result\": {\n",
      "      \"position\": {\n",
      "        \"x\": 63.838585693586815,\n",
      "        \"y\": 316.11564044403696,\n",
      "        \"z\": 100.0\n",
      "      }\n",
      "    },\n",
      "    \"startedAt\": \"2024-08-09T06:39:57.751423+00:00\",\n",
      "    \"completedAt\": \"2024-08-09T06:39:58.334620+00:00\",\n",
      "    \"intent\": \"setup\",\n",
      "    \"notes\": []\n",
      "  }\n",
      "}\n"
     ]
    }
   ],
   "source": [
    "openapi.move_to_coordinates((X,Y,100), min_z_height=1)\n"
   ]
  },
  {
   "cell_type": "code",
   "execution_count": 89,
   "metadata": {},
   "outputs": [
    {
     "name": "stdout",
     "output_type": "stream",
     "text": [
      "{'x': 33.00000000000001, 'y': 301.0, 'z': 50.0}\n"
     ]
    }
   ],
   "source": [
    "coordinates = openapi.get_position()"
   ]
  },
  {
   "cell_type": "code",
   "execution_count": 14,
   "metadata": {},
   "outputs": [],
   "source": [
    "markers = np.load('marker_positions.npy')"
   ]
  },
  {
   "cell_type": "code",
   "execution_count": 18,
   "metadata": {},
   "outputs": [
    {
     "data": {
      "text/plain": [
       "array([[ 33.7, 341.1,   1. ],\n",
       "       [ 85. , 340.2,   1. ],\n",
       "       [ 86.5, 304.2,   1. ],\n",
       "       [ 33.8, 304. ,   1. ]])"
      ]
     },
     "execution_count": 18,
     "metadata": {},
     "output_type": "execute_result"
    }
   ],
   "source": [
    "markers"
   ]
  },
  {
   "cell_type": "markdown",
   "metadata": {},
   "source": [
    "### Load and execute protocol"
   ]
  },
  {
   "cell_type": "code",
   "execution_count": 7,
   "metadata": {},
   "outputs": [
    {
     "ename": "FileNotFoundError",
     "evalue": "[Errno 2] No such file or directory: './protocols/test.py'",
     "output_type": "error",
     "traceback": [
      "\u001b[1;31m---------------------------------------------------------------------------\u001b[0m",
      "\u001b[1;31mFileNotFoundError\u001b[0m                         Traceback (most recent call last)",
      "Cell \u001b[1;32mIn[7], line 3\u001b[0m\n\u001b[0;32m      1\u001b[0m PROTOCOL_FILE \u001b[38;5;241m=\u001b[39m \u001b[38;5;124m\"\u001b[39m\u001b[38;5;124m./protocols/test.py\u001b[39m\u001b[38;5;124m\"\u001b[39m\n\u001b[0;32m      2\u001b[0m LABWARE_FILE \u001b[38;5;241m=\u001b[39m \u001b[38;5;124m\"\u001b[39m\u001b[38;5;124m./vwr_96_tiprack_200ul.json\u001b[39m\u001b[38;5;124m\"\u001b[39m\n\u001b[1;32m----> 3\u001b[0m \u001b[43mopenapi\u001b[49m\u001b[38;5;241;43m.\u001b[39;49m\u001b[43mupload_protocol\u001b[49m\u001b[43m(\u001b[49m\u001b[43mPROTOCOL_FILE\u001b[49m\u001b[43m,\u001b[49m\u001b[43m \u001b[49m\u001b[43mLABWARE_FILE\u001b[49m\u001b[43m)\u001b[49m\n",
      "Cell \u001b[1;32mIn[2], line 87\u001b[0m, in \u001b[0;36mOpentronsAPI.upload_protocol\u001b[1;34m(self, PROTOCOL_FILE, LABWARE_FILE, verbose)\u001b[0m\n\u001b[0;32m     85\u001b[0m \u001b[38;5;28;01mdef\u001b[39;00m \u001b[38;5;21mupload_protocol\u001b[39m(\u001b[38;5;28mself\u001b[39m, PROTOCOL_FILE: \u001b[38;5;28mstr\u001b[39m, LABWARE_FILE: \u001b[38;5;28mstr\u001b[39m \u001b[38;5;241m=\u001b[39m \u001b[38;5;28;01mNone\u001b[39;00m, verbose: \u001b[38;5;28mbool\u001b[39m \u001b[38;5;241m=\u001b[39m \u001b[38;5;28;01mTrue\u001b[39;00m) \u001b[38;5;241m-\u001b[39m\u001b[38;5;241m>\u001b[39m \u001b[38;5;28;01mNone\u001b[39;00m:\n\u001b[1;32m---> 87\u001b[0m     protocol_file_payload \u001b[38;5;241m=\u001b[39m \u001b[38;5;28;43mopen\u001b[39;49m\u001b[43m(\u001b[49m\u001b[43mPROTOCOL_FILE\u001b[49m\u001b[43m,\u001b[49m\u001b[43m \u001b[49m\u001b[38;5;124;43m\"\u001b[39;49m\u001b[38;5;124;43mrb\u001b[39;49m\u001b[38;5;124;43m\"\u001b[39;49m\u001b[43m)\u001b[49m\n\u001b[0;32m     88\u001b[0m     files \u001b[38;5;241m=\u001b[39m [(\u001b[38;5;124m\"\u001b[39m\u001b[38;5;124mfiles\u001b[39m\u001b[38;5;124m\"\u001b[39m, protocol_file_payload)]\n\u001b[0;32m     89\u001b[0m     \u001b[38;5;28;01mif\u001b[39;00m LABWARE_FILE:\n",
      "File \u001b[1;32mc:\\Users\\User\\anaconda3\\envs\\lab\\Lib\\site-packages\\IPython\\core\\interactiveshell.py:324\u001b[0m, in \u001b[0;36m_modified_open\u001b[1;34m(file, *args, **kwargs)\u001b[0m\n\u001b[0;32m    317\u001b[0m \u001b[38;5;28;01mif\u001b[39;00m file \u001b[38;5;129;01min\u001b[39;00m {\u001b[38;5;241m0\u001b[39m, \u001b[38;5;241m1\u001b[39m, \u001b[38;5;241m2\u001b[39m}:\n\u001b[0;32m    318\u001b[0m     \u001b[38;5;28;01mraise\u001b[39;00m \u001b[38;5;167;01mValueError\u001b[39;00m(\n\u001b[0;32m    319\u001b[0m         \u001b[38;5;124mf\u001b[39m\u001b[38;5;124m\"\u001b[39m\u001b[38;5;124mIPython won\u001b[39m\u001b[38;5;124m'\u001b[39m\u001b[38;5;124mt let you open fd=\u001b[39m\u001b[38;5;132;01m{\u001b[39;00mfile\u001b[38;5;132;01m}\u001b[39;00m\u001b[38;5;124m by default \u001b[39m\u001b[38;5;124m\"\u001b[39m\n\u001b[0;32m    320\u001b[0m         \u001b[38;5;124m\"\u001b[39m\u001b[38;5;124mas it is likely to crash IPython. If you know what you are doing, \u001b[39m\u001b[38;5;124m\"\u001b[39m\n\u001b[0;32m    321\u001b[0m         \u001b[38;5;124m\"\u001b[39m\u001b[38;5;124myou can use builtins\u001b[39m\u001b[38;5;124m'\u001b[39m\u001b[38;5;124m open.\u001b[39m\u001b[38;5;124m\"\u001b[39m\n\u001b[0;32m    322\u001b[0m     )\n\u001b[1;32m--> 324\u001b[0m \u001b[38;5;28;01mreturn\u001b[39;00m \u001b[43mio_open\u001b[49m\u001b[43m(\u001b[49m\u001b[43mfile\u001b[49m\u001b[43m,\u001b[49m\u001b[43m \u001b[49m\u001b[38;5;241;43m*\u001b[39;49m\u001b[43margs\u001b[49m\u001b[43m,\u001b[49m\u001b[43m \u001b[49m\u001b[38;5;241;43m*\u001b[39;49m\u001b[38;5;241;43m*\u001b[39;49m\u001b[43mkwargs\u001b[49m\u001b[43m)\u001b[49m\n",
      "\u001b[1;31mFileNotFoundError\u001b[0m: [Errno 2] No such file or directory: './protocols/test.py'"
     ]
    }
   ],
   "source": [
    "PROTOCOL_FILE = \"./protocols/test.py\"\n",
    "LABWARE_FILE = \"./vwr_96_tiprack_200ul.json\"\n",
    "openapi.upload_protocol(PROTOCOL_FILE, LABWARE_FILE)"
   ]
  },
  {
   "cell_type": "code",
   "execution_count": 28,
   "metadata": {},
   "outputs": [
    {
     "name": "stdout",
     "output_type": "stream",
     "text": [
      "Request status:\n",
      "<Response [201]>\n",
      "{\n",
      "  \"data\": {\n",
      "    \"id\": \"f6a256ac-261c-41f6-ba4e-0692bf2055c4\",\n",
      "    \"ok\": true,\n",
      "    \"createdAt\": \"2024-07-09T23:42:14.581162+00:00\",\n",
      "    \"status\": \"idle\",\n",
      "    \"current\": true,\n",
      "    \"actions\": [],\n",
      "    \"errors\": [],\n",
      "    \"pipettes\": [],\n",
      "    \"modules\": [],\n",
      "    \"labware\": [],\n",
      "    \"liquids\": [],\n",
      "    \"labwareOffsets\": [],\n",
      "    \"runTimeParameters\": [],\n",
      "    \"protocolId\": \"5027fe50-5f0a-423c-9ce4-2b2d8e18e3df\"\n",
      "  }\n",
      "}\n"
     ]
    }
   ],
   "source": [
    "openapi.create_run(protocol_id=openapi.protocol_id)"
   ]
  },
  {
   "cell_type": "code",
   "execution_count": 29,
   "metadata": {},
   "outputs": [],
   "source": [
    "openapi.run_protocol()"
   ]
  },
  {
   "cell_type": "code",
   "execution_count": 22,
   "metadata": {},
   "outputs": [
    {
     "name": "stdout",
     "output_type": "stream",
     "text": [
      "Protocols list:\n",
      "{'id': 'dafb7d77-8245-448d-9864-27fa1e3137d5', 'createdAt': '2024-05-14T22:57:28.389017+00:00', 'files': [{'name': 'test_vwr_96_tiprack_200ul.py', 'role': 'main'}, {'name': 'vwr_96_tiprack_200ul.json', 'role': 'labware'}], 'protocolType': 'python', 'robotType': 'OT-2 Standard', 'metadata': {'apiLevel': '2.0'}, 'analyses': [], 'analysisSummaries': [{'id': 'a9ee0d6c-94d5-4001-894e-e31f6a51450c', 'status': 'completed'}], 'key': 'a90763dc-bb0f-4f8b-849d-3e5b31cf6a46'}\n",
      "{'id': 'e40e72fa-9362-4434-adcc-b72c6c67ed71', 'createdAt': '2024-05-14T23:13:32.939907+00:00', 'files': [{'name': 'test_vwr_96_tiprack_200ul.py', 'role': 'main'}, {'name': 'vwr_96_tiprack_200ul.json', 'role': 'labware'}], 'protocolType': 'python', 'robotType': 'OT-2 Standard', 'metadata': {'apiLevel': '2.0'}, 'analyses': [], 'analysisSummaries': [{'id': '24db9ff8-f373-48cd-807b-9a07a89882e4', 'status': 'completed'}], 'key': '918a57f2-1e17-4735-af45-cd1bcad0aef9'}\n",
      "{'id': '3047424e-0c54-45e0-8783-1444f0e75e26', 'createdAt': '2024-07-09T20:50:01.490185+00:00', 'files': [{'name': 'test_vwr_96_tiprack_200ul.py', 'role': 'main'}, {'name': 'vwr_96_tiprack_200ul.json', 'role': 'labware'}], 'protocolType': 'python', 'robotType': 'OT-2 Standard', 'metadata': {'apiLevel': '2.0'}, 'analyses': [], 'analysisSummaries': [{'id': 'fe2de840-4154-4697-b160-7da490e270b7', 'status': 'completed'}], 'key': '48ec9fe1-3313-440f-9711-c96b4de7b4c1'}\n",
      "{'id': '1c062d08-fbac-458b-8acb-554855f75595', 'createdAt': '2024-07-09T21:34:26.485827+00:00', 'files': [{'name': 'test.py', 'role': 'main'}], 'protocolType': 'python', 'robotType': 'OT-2 Standard', 'metadata': {'description': 'Simple protocol to get started using the OT-2', 'protocolName': 'My Protocol', 'author': 'Ivan'}, 'analyses': [], 'analysisSummaries': [{'id': 'cc15fe0e-4043-4e35-95de-e9d1dbc89cb8', 'status': 'completed'}]}\n",
      "{'id': 'd5f4b7c7-b153-477a-8329-8ebe140f805e', 'createdAt': '2024-07-09T21:35:52.326347+00:00', 'files': [{'name': 'test.py', 'role': 'main'}, {'name': 'vwr_96_tiprack_200ul.json', 'role': 'labware'}], 'protocolType': 'python', 'robotType': 'OT-2 Standard', 'metadata': {'description': 'Simple protocol to get started using the OT-2', 'protocolName': 'My Protocol', 'author': 'Ivan'}, 'analyses': [], 'analysisSummaries': [{'id': 'e2811946-2a27-45cb-b7c4-bfacfa674b0f', 'status': 'completed'}]}\n",
      "{'id': '7c4857a6-5a35-442f-981b-f5b979520932', 'createdAt': '2024-07-09T22:43:55.236381+00:00', 'files': [{'name': 'test.py', 'role': 'main'}, {'name': 'vwr_96_tiprack_200ul.json', 'role': 'labware'}], 'protocolType': 'python', 'robotType': 'OT-2 Standard', 'metadata': {'description': 'Simple protocol to get started using the OT-2', 'protocolName': 'My Protocol', 'author': 'Ivan'}, 'analyses': [], 'analysisSummaries': [{'id': 'c4a61b34-15b1-4c08-99a7-ea039d1c4ba9', 'status': 'completed'}]}\n",
      "{'id': '3a560fab-ce51-442c-a46b-0f06b98441f9', 'createdAt': '2024-07-09T23:33:47.689639+00:00', 'files': [{'name': 'test.py', 'role': 'main'}, {'name': 'vwr_96_tiprack_200ul.json', 'role': 'labware'}], 'protocolType': 'python', 'robotType': 'OT-2 Standard', 'metadata': {'description': 'Testing cuboid pipettes for liquid handling', 'protocolName': 'Testing custom pipettes', 'author': 'Ivan'}, 'analyses': [], 'analysisSummaries': [{'id': 'f73be5ad-7f69-4f06-9d85-7de5830484fa', 'status': 'completed'}]}\n"
     ]
    }
   ],
   "source": [
    "protocols_url = f\"http://{openapi.ROBOT_IP}:31950/protocols\"\n",
    "\n",
    "r = requests.get(\n",
    "\turl=protocols_url,\n",
    "\theaders=openapi.HEADERS\n",
    "\t)\n",
    "\n",
    "protocols_dict = json.loads(r.text)\n",
    "print(\"Protocols list:\")\n",
    "for p in protocols_dict[\"data\"]:\n",
    "\tprint(p)"
   ]
  },
  {
   "cell_type": "markdown",
   "metadata": {},
   "source": [
    "# Drafts"
   ]
  },
  {
   "cell_type": "markdown",
   "metadata": {},
   "source": [
    "### Liquid pickup attempt"
   ]
  },
  {
   "cell_type": "code",
   "execution_count": 36,
   "metadata": {},
   "outputs": [],
   "source": [
    "TIP_RACK = \"opentrons_96_tiprack_300ul\"\n",
    "TIP_RACK2 = \"vwr_96_tiprack_200ul\"\n",
    "RESERVOIR = \"nest_12_reservoir_15ml\"\n",
    "WELL_PLATE = \"corning_96_wellplate_360ul_flat\""
   ]
  },
  {
   "cell_type": "code",
   "execution_count": 37,
   "metadata": {},
   "outputs": [
    {
     "ename": "FileNotFoundError",
     "evalue": "[Errno 2] No such file or directory: './vwr_96_tiprack_200ul.json'",
     "output_type": "error",
     "traceback": [
      "\u001b[1;31m---------------------------------------------------------------------------\u001b[0m",
      "\u001b[1;31mFileNotFoundError\u001b[0m                         Traceback (most recent call last)",
      "Cell \u001b[1;32mIn[37], line 7\u001b[0m\n\u001b[0;32m      3\u001b[0m HEADERS \u001b[38;5;241m=\u001b[39m {\u001b[38;5;124m\"\u001b[39m\u001b[38;5;124mopentrons-version\u001b[39m\u001b[38;5;124m\"\u001b[39m: \u001b[38;5;124m\"\u001b[39m\u001b[38;5;124m3\u001b[39m\u001b[38;5;124m\"\u001b[39m}\n\u001b[0;32m      5\u001b[0m protocols_url \u001b[38;5;241m=\u001b[39m \u001b[38;5;124mf\u001b[39m\u001b[38;5;124m\"\u001b[39m\u001b[38;5;124mhttp://\u001b[39m\u001b[38;5;132;01m{\u001b[39;00mopenapi\u001b[38;5;241m.\u001b[39mROBOT_IP\u001b[38;5;132;01m}\u001b[39;00m\u001b[38;5;124m:31950/protocols\u001b[39m\u001b[38;5;124m\"\u001b[39m\n\u001b[1;32m----> 7\u001b[0m labware_file_payload \u001b[38;5;241m=\u001b[39m \u001b[38;5;28;43mopen\u001b[39;49m\u001b[43m(\u001b[49m\u001b[43mLABWARE_FILE\u001b[49m\u001b[43m,\u001b[49m\u001b[43m \u001b[49m\u001b[38;5;124;43m\"\u001b[39;49m\u001b[38;5;124;43mrb\u001b[39;49m\u001b[38;5;124;43m\"\u001b[39;49m\u001b[43m)\u001b[49m\n\u001b[0;32m      9\u001b[0m r \u001b[38;5;241m=\u001b[39m requests\u001b[38;5;241m.\u001b[39mpost(\n\u001b[0;32m     10\u001b[0m \turl\u001b[38;5;241m=\u001b[39mprotocols_url,\n\u001b[0;32m     11\u001b[0m \theaders\u001b[38;5;241m=\u001b[39mHEADERS,\n\u001b[0;32m     12\u001b[0m \tfiles\u001b[38;5;241m=\u001b[39m[(\u001b[38;5;124m\"\u001b[39m\u001b[38;5;124mfiles\u001b[39m\u001b[38;5;124m\"\u001b[39m, labware_file_payload)]\n\u001b[0;32m     13\u001b[0m \t)\n\u001b[0;32m     15\u001b[0m r_dict \u001b[38;5;241m=\u001b[39m json\u001b[38;5;241m.\u001b[39mloads(r\u001b[38;5;241m.\u001b[39mtext)\n",
      "File \u001b[1;32mc:\\Users\\User\\anaconda3\\envs\\lab\\Lib\\site-packages\\IPython\\core\\interactiveshell.py:324\u001b[0m, in \u001b[0;36m_modified_open\u001b[1;34m(file, *args, **kwargs)\u001b[0m\n\u001b[0;32m    317\u001b[0m \u001b[38;5;28;01mif\u001b[39;00m file \u001b[38;5;129;01min\u001b[39;00m {\u001b[38;5;241m0\u001b[39m, \u001b[38;5;241m1\u001b[39m, \u001b[38;5;241m2\u001b[39m}:\n\u001b[0;32m    318\u001b[0m     \u001b[38;5;28;01mraise\u001b[39;00m \u001b[38;5;167;01mValueError\u001b[39;00m(\n\u001b[0;32m    319\u001b[0m         \u001b[38;5;124mf\u001b[39m\u001b[38;5;124m\"\u001b[39m\u001b[38;5;124mIPython won\u001b[39m\u001b[38;5;124m'\u001b[39m\u001b[38;5;124mt let you open fd=\u001b[39m\u001b[38;5;132;01m{\u001b[39;00mfile\u001b[38;5;132;01m}\u001b[39;00m\u001b[38;5;124m by default \u001b[39m\u001b[38;5;124m\"\u001b[39m\n\u001b[0;32m    320\u001b[0m         \u001b[38;5;124m\"\u001b[39m\u001b[38;5;124mas it is likely to crash IPython. If you know what you are doing, \u001b[39m\u001b[38;5;124m\"\u001b[39m\n\u001b[0;32m    321\u001b[0m         \u001b[38;5;124m\"\u001b[39m\u001b[38;5;124myou can use builtins\u001b[39m\u001b[38;5;124m'\u001b[39m\u001b[38;5;124m open.\u001b[39m\u001b[38;5;124m\"\u001b[39m\n\u001b[0;32m    322\u001b[0m     )\n\u001b[1;32m--> 324\u001b[0m \u001b[38;5;28;01mreturn\u001b[39;00m \u001b[43mio_open\u001b[49m\u001b[43m(\u001b[49m\u001b[43mfile\u001b[49m\u001b[43m,\u001b[49m\u001b[43m \u001b[49m\u001b[38;5;241;43m*\u001b[39;49m\u001b[43margs\u001b[49m\u001b[43m,\u001b[49m\u001b[43m \u001b[49m\u001b[38;5;241;43m*\u001b[39;49m\u001b[38;5;241;43m*\u001b[39;49m\u001b[43mkwargs\u001b[49m\u001b[43m)\u001b[49m\n",
      "\u001b[1;31mFileNotFoundError\u001b[0m: [Errno 2] No such file or directory: './vwr_96_tiprack_200ul.json'"
     ]
    }
   ],
   "source": [
    "\n",
    "LABWARE_FILE = \"./vwr_96_tiprack_200ul.json\"\n",
    "\n",
    "HEADERS = {\"opentrons-version\": \"3\"}\n",
    "\n",
    "protocols_url = f\"http://{openapi.ROBOT_IP}:31950/protocols\"\n",
    "\n",
    "labware_file_payload = open(LABWARE_FILE, \"rb\")\n",
    "\n",
    "r = requests.post(\n",
    "\turl=protocols_url,\n",
    "\theaders=HEADERS,\n",
    "\tfiles=[(\"files\", labware_file_payload)]\n",
    "\t)\n",
    "\n",
    "r_dict = json.loads(r.text)\n",
    "\n",
    "labware_file_payload.close()"
   ]
  },
  {
   "cell_type": "code",
   "execution_count": 48,
   "metadata": {},
   "outputs": [
    {
     "name": "stdout",
     "output_type": "stream",
     "text": [
      "Command:\n",
      "{\"data\": {\"commandType\": \"aspirateInPlace\", \"params\": {\"flowRate\": 50, \"volume\": 100, \"pipetteId\": \"e649fddd-1ac5-4d61-ad58-b460d43c89aa\"}, \"intent\": \"setup\"}}\n",
      "\n",
      "Response:\n",
      "<Response [201]>\n",
      "{\"data\": {\"id\": \"070e3e10-8ab8-49f7-a9b1-653f67f51bbc\", \"createdAt\": \"2024-08-09T04:41:46.398525+00:00\", \"commandType\": \"aspirateInPlace\", \"key\": \"070e3e10-8ab8-49f7-a9b1-653f67f51bbc\", \"status\": \"succeeded\", \"params\": {\"flowRate\": 50.0, \"volume\": 100.0, \"pipetteId\": \"e649fddd-1ac5-4d61-ad58-b460d43c89aa\"}, \"result\": {\"volume\": 100.0}, \"startedAt\": \"2024-08-09T04:41:46.400443+00:00\", \"completedAt\": \"2024-08-09T04:41:48.781001+00:00\", \"intent\": \"setup\", \"notes\": []}}\n",
      "\n"
     ]
    }
   ],
   "source": [
    "command_dict = {\n",
    "\t\"data\": {\n",
    "\t\t\"commandType\": \"aspirateInPlace\",\n",
    "\t\t\"params\": {\n",
    "\t\t\t\"flowRate\": 50,\n",
    "\t\t\t\"volume\": 100,\n",
    "\t\t\t\"pipetteId\": openapi.pipette_id\n",
    "\t\t},\n",
    "\t\t\"intent\": \"setup\"\n",
    "\t}\n",
    "}\n",
    "\n",
    "command_payload = json.dumps(command_dict)\n",
    "print(f\"Command:\\n{command_payload}\\n\")\n",
    "\n",
    "r = requests.post(\n",
    "\turl=openapi.commands_url,\n",
    "\theaders=openapi.HEADERS,\n",
    "\tdata=command_payload,\n",
    "    params={\"waitUntilComplete\": True}\n",
    "\t)\n",
    "\n",
    "print(f\"Response:\\n{r}\\n{r.text}\\n\")"
   ]
  },
  {
   "cell_type": "code",
   "execution_count": 29,
   "metadata": {},
   "outputs": [
    {
     "name": "stdout",
     "output_type": "stream",
     "text": [
      "Command:\n",
      "{\"data\": {\"commandType\": \"aspirate\", \"params\": {\"labwareId\": \"8c039e2a-5bd8-40d1-bd3b-3c06ea571ac9\", \"wellName\": \"A1\", \"wellLocation\": {\"origin\": \"top\", \"offset\": {\"x\": 0, \"y\": 0, \"z\": -40}}, \"flowRate\": 10, \"volume\": 100, \"pipetteId\": \"e2534277-8a57-4760-8ea8-aebbdf19aa17\"}, \"intent\": \"setup\"}}\n",
      "\n",
      "Response:\n",
      "<Response [201]>\n",
      "{\"data\": {\"id\": \"b24f6040-137d-4a03-9e4f-84e973fb1c13\", \"createdAt\": \"2024-06-14T07:13:52.252198+00:00\", \"commandType\": \"aspirate\", \"key\": \"b24f6040-137d-4a03-9e4f-84e973fb1c13\", \"status\": \"succeeded\", \"params\": {\"labwareId\": \"8c039e2a-5bd8-40d1-bd3b-3c06ea571ac9\", \"wellName\": \"A1\", \"wellLocation\": {\"origin\": \"top\", \"offset\": {\"x\": 0.0, \"y\": 0.0, \"z\": -40.0}}, \"flowRate\": 10.0, \"volume\": 100.0, \"pipetteId\": \"e2534277-8a57-4760-8ea8-aebbdf19aa17\"}, \"result\": {\"position\": {\"x\": 196.38, \"y\": 42.74, \"z\": 4.399999999999997}, \"volume\": 100.0}, \"startedAt\": \"2024-06-14T07:13:52.253813+00:00\", \"completedAt\": \"2024-06-14T07:14:06.759121+00:00\", \"intent\": \"setup\"}}\n",
      "\n"
     ]
    }
   ],
   "source": [
    "# openapi.move_to_coordinates((200,50,50), min_z_height=1)\n",
    "# openapi.move_to_coordinates((200,50,5), min_z_height=1)\n",
    "\n",
    "\n",
    "command_dict = {\n",
    "\t\"data\": {\n",
    "\t\t\"commandType\": \"aspirate\",\n",
    "\t\t\"params\": {\n",
    "\t\t\t\"labwareId\": labware_3_id,\n",
    "\t\t\t\"wellName\": \"A1\",\n",
    "\t\t\t\"wellLocation\": {\n",
    "\t\t\t\t\"origin\": \"top\", \"offset\": {\"x\": 0, \"y\": 0, \"z\": -40}\n",
    "\t\t\t},\n",
    "\t\t\t\"flowRate\": 10,\n",
    "\t\t\t\"volume\": 100,\n",
    "\t\t\t\"pipetteId\": openapi.pipette_id\n",
    "\t\t},\n",
    "\t\t\"intent\": \"setup\"\n",
    "\t}\n",
    "}\n",
    "\n",
    "command_payload = json.dumps(command_dict)\n",
    "print(f\"Command:\\n{command_payload}\\n\")\n",
    "\n",
    "r = requests.post(\n",
    "\turl=openapi.commands_url,\n",
    "\theaders=openapi.HEADERS,\n",
    "\tdata=command_payload,\n",
    "    params={\"waitUntilComplete\": True}\n",
    "\t)\n",
    "\n",
    "print(f\"Response:\\n{r}\\n{r.text}\\n\")"
   ]
  },
  {
   "cell_type": "code",
   "execution_count": 30,
   "metadata": {},
   "outputs": [
    {
     "name": "stdout",
     "output_type": "stream",
     "text": [
      "Command:\n",
      "{\"data\": {\"commandType\": \"dispense\", \"params\": {\"labwareId\": \"b7bc5044-bf0e-40f0-afc5-b4d10a037596\", \"wellName\": \"A2\", \"wellLocation\": {\"origin\": \"top\", \"offset\": {\"x\": 0, \"y\": 0, \"z\": 0}}, \"flowRate\": 10, \"volume\": 100, \"pipetteId\": \"e2534277-8a57-4760-8ea8-aebbdf19aa17\"}, \"intent\": \"setup\"}}\n",
      "\n",
      "Response:\n",
      "<Response [201]>\n",
      "{\"data\": {\"id\": \"4386471b-66b2-4395-a355-a151021e5adc\", \"createdAt\": \"2024-06-14T07:14:06.843683+00:00\", \"commandType\": \"dispense\", \"key\": \"4386471b-66b2-4395-a355-a151021e5adc\", \"status\": \"succeeded\", \"params\": {\"labwareId\": \"b7bc5044-bf0e-40f0-afc5-b4d10a037596\", \"wellName\": \"A2\", \"wellLocation\": {\"origin\": \"top\", \"offset\": {\"x\": 0.0, \"y\": 0.0, \"z\": 0.0}}, \"flowRate\": 10.0, \"volume\": 100.0, \"pipetteId\": \"e2534277-8a57-4760-8ea8-aebbdf19aa17\"}, \"result\": {\"position\": {\"x\": 288.38, \"y\": 74.24, \"z\": 14.219999999999999}, \"volume\": 100.0}, \"startedAt\": \"2024-06-14T07:14:06.845252+00:00\", \"completedAt\": \"2024-06-14T07:14:19.409160+00:00\", \"intent\": \"setup\"}}\n",
      "\n"
     ]
    }
   ],
   "source": [
    "command_dict = {\n",
    "\t\"data\": {\n",
    "\t\t\"commandType\": \"dispense\",\n",
    "\t\t\"params\": {\n",
    "\t\t\t\"labwareId\": labware_2_id,\n",
    "\t\t\t\"wellName\": \"A2\",\n",
    "\t\t\t\"wellLocation\": {\n",
    "\t\t\t\t\"origin\": \"top\", \"offset\": {\"x\": 0, \"y\": 0, \"z\": 0}\n",
    "\t\t\t},\n",
    "\t\t\t\"flowRate\": 10,\n",
    "\t\t\t\"volume\": 100,\n",
    "\t\t\t\"pipetteId\": openapi.pipette_id\n",
    "\t\t},\n",
    "\t\t\"intent\": \"setup\"\n",
    "\t}\n",
    "}\n",
    "\n",
    "command_payload = json.dumps(command_dict)\n",
    "print(f\"Command:\\n{command_payload}\\n\")\n",
    "\n",
    "r = requests.post(\n",
    "\turl=openapi.commands_url,\n",
    "\theaders=openapi.HEADERS,\n",
    "\tdata=command_payload,\n",
    "    params={\"waitUntilComplete\": True}\n",
    "\t)\n",
    "\n",
    "print(f\"Response:\\n{r}\\n{r.text}\\n\")"
   ]
  },
  {
   "cell_type": "code",
   "execution_count": 31,
   "metadata": {},
   "outputs": [
    {
     "name": "stdout",
     "output_type": "stream",
     "text": [
      "Command:\n",
      "{\"data\": {\"commandType\": \"blowout\", \"params\": {\"labwareId\": \"b7bc5044-bf0e-40f0-afc5-b4d10a037596\", \"wellName\": \"A2\", \"wellLocation\": {\"origin\": \"top\", \"offset\": {\"x\": 0, \"y\": 0, \"z\": 0}}, \"flowRate\": 10, \"pipetteId\": \"e2534277-8a57-4760-8ea8-aebbdf19aa17\"}, \"intent\": \"setup\"}}\n",
      "\n",
      "Response:\n",
      "<Response [201]>\n",
      "{\"data\": {\"id\": \"25f080f9-bf07-4ea1-831f-f2e6c9e661f3\", \"createdAt\": \"2024-06-14T07:14:19.467575+00:00\", \"commandType\": \"blowout\", \"key\": \"25f080f9-bf07-4ea1-831f-f2e6c9e661f3\", \"status\": \"succeeded\", \"params\": {\"labwareId\": \"b7bc5044-bf0e-40f0-afc5-b4d10a037596\", \"wellName\": \"A2\", \"wellLocation\": {\"origin\": \"top\", \"offset\": {\"x\": 0.0, \"y\": 0.0, \"z\": 0.0}}, \"flowRate\": 10.0, \"pipetteId\": \"e2534277-8a57-4760-8ea8-aebbdf19aa17\"}, \"result\": {\"position\": {\"x\": 288.38, \"y\": 74.24, \"z\": 14.219999999999999}}, \"startedAt\": \"2024-06-14T07:14:19.469225+00:00\", \"completedAt\": \"2024-06-14T07:14:23.883102+00:00\", \"intent\": \"setup\"}}\n",
      "\n"
     ]
    }
   ],
   "source": [
    "command_dict = {\n",
    "\t\"data\": {\n",
    "\t\t\"commandType\": \"blowout\",\n",
    "\t\t\"params\": {\n",
    "\t\t\t\"labwareId\": labware_2_id,\n",
    "\t\t\t\"wellName\": \"A2\",\n",
    "\t\t\t\"wellLocation\": {\n",
    "\t\t\t\t\"origin\": \"top\", \"offset\": {\"x\": 0, \"y\": 0, \"z\": 0}\n",
    "\t\t\t},\n",
    "\t\t\t\"flowRate\": 10,\n",
    "\t\t\t\"pipetteId\": openapi.pipette_id\n",
    "\t\t},\n",
    "\t\t\"intent\": \"setup\"\n",
    "\t}\n",
    "}\n",
    "\n",
    "command_payload = json.dumps(command_dict)\n",
    "print(f\"Command:\\n{command_payload}\\n\")\n",
    "\n",
    "r = requests.post(\n",
    "\turl=openapi.commands_url,\n",
    "\theaders=openapi.HEADERS,\n",
    "\tdata=command_payload,\n",
    "    params={\"waitUntilComplete\": True}\n",
    "\t)\n",
    "\n",
    "print(f\"Response:\\n{r}\\n{r.text}\\n\")"
   ]
  },
  {
   "cell_type": "code",
   "execution_count": 32,
   "metadata": {},
   "outputs": [
    {
     "name": "stdout",
     "output_type": "stream",
     "text": [
      "Command:\n",
      "{\"data\": {\"commandType\": \"dropTip\", \"params\": {\"labwareId\": \"35649278-ee0c-412e-8a6b-c1e6f6144d68\", \"wellName\": \"A1\", \"wellLocation\": {\"origin\": \"top\", \"offset\": {\"x\": 0, \"y\": 0, \"z\": 0}}, \"pipetteId\": \"e2534277-8a57-4760-8ea8-aebbdf19aa17\"}, \"intent\": \"setup\"}}\n",
      "\n",
      "Response:\n",
      "<Response [201]>\n",
      "{\"data\": {\"id\": \"3e0af3fb-2557-470a-87c7-f63c4822a335\", \"createdAt\": \"2024-06-14T07:30:30.261117+00:00\", \"commandType\": \"dropTip\", \"key\": \"3e0af3fb-2557-470a-87c7-f63c4822a335\", \"status\": \"succeeded\", \"params\": {\"pipetteId\": \"e2534277-8a57-4760-8ea8-aebbdf19aa17\", \"labwareId\": \"35649278-ee0c-412e-8a6b-c1e6f6144d68\", \"wellName\": \"A1\", \"wellLocation\": {\"origin\": \"top\", \"offset\": {\"x\": 0.0, \"y\": 0.0, \"z\": 0.0}}, \"alternateDropLocation\": false}, \"result\": {\"position\": {\"x\": 14.38, \"y\": 74.24, \"z\": 64.69}}, \"startedAt\": \"2024-06-14T07:30:30.262871+00:00\", \"completedAt\": \"2024-06-14T07:30:43.309438+00:00\", \"intent\": \"setup\"}}\n",
      "\n"
     ]
    }
   ],
   "source": [
    "command_dict = {\n",
    "\t\"data\": {\n",
    "\t\t\"commandType\": \"dropTip\",\n",
    "\t\t\"params\": {\n",
    "\t\t\t\"labwareId\": labware_1_id,\n",
    "\t\t\t\"wellName\": \"A1\",\n",
    "\t\t\t\"wellLocation\": {\n",
    "\t\t\t\t\"origin\": \"top\", \"offset\": {\"x\": 0, \"y\": 0, \"z\": 0}\n",
    "\t\t\t},\n",
    "\t\t\t\"pipetteId\": openapi.pipette_id\n",
    "\t\t},\n",
    "\t\t\"intent\": \"setup\"\n",
    "\t}\n",
    "}\n",
    "\n",
    "command_payload = json.dumps(command_dict)\n",
    "print(f\"Command:\\n{command_payload}\\n\")\n",
    "\n",
    "r = requests.post(\n",
    "\turl=openapi.commands_url,\n",
    "\theaders=openapi.HEADERS,\n",
    "\tdata=command_payload,\n",
    "    params={\"waitUntilComplete\": True}\n",
    "\t)\n",
    "\n",
    "print(f\"Response:\\n{r}\\n{r.text}\\n\")"
   ]
  }
 ],
 "metadata": {
  "kernelspec": {
   "display_name": "lab",
   "language": "python",
   "name": "python3"
  },
  "language_info": {
   "codemirror_mode": {
    "name": "ipython",
    "version": 3
   },
   "file_extension": ".py",
   "mimetype": "text/x-python",
   "name": "python",
   "nbconvert_exporter": "python",
   "pygments_lexer": "ipython3",
   "version": "3.12.3"
  }
 },
 "nbformat": 4,
 "nbformat_minor": 2
}
