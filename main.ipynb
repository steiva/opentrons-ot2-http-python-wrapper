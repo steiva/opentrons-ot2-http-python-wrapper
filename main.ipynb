{
 "cells": [
  {
   "cell_type": "markdown",
   "metadata": {},
   "source": [
    "# Imports"
   ]
  },
  {
   "cell_type": "code",
   "execution_count": 1,
   "metadata": {},
   "outputs": [],
   "source": [
    "import requests\n",
    "import json"
   ]
  },
  {
   "cell_type": "markdown",
   "metadata": {},
   "source": [
    "# API Class"
   ]
  },
  {
   "cell_type": "code",
   "execution_count": 2,
   "metadata": {},
   "outputs": [],
   "source": [
    "class OpentronsAPI():\n",
    "\n",
    "    def __init__(self) -> None:\n",
    "        self.ROBOT_IP = \"169.254.241.245\"\n",
    "        self.HEADERS = {\"opentrons-version\": \"3\"}\n",
    "        self.PIPETTE = \"p300_single_gen2\"\n",
    "        self.runs_url = f\"http://{self.ROBOT_IP}:31950/runs\"\n",
    "        self.lights_url = f\"http://{self.ROBOT_IP}:31950/robot/lights\"\n",
    "        self.home_url = f\"http://{self.ROBOT_IP}:31950/robot/home\"\n",
    "        self.protocols_url = f\"http://{self.ROBOT_IP}:31950/protocols\"\n",
    "        self.run_id = None\n",
    "        self.pipette_id = None\n",
    "        self.protocol_id = None\n",
    "\n",
    "    def post(self, url: str, headers: dict, params: str = None, data: str = None, files: list = None) -> requests.models.Response:\n",
    "        r = requests.post(\n",
    "            url=url,\n",
    "            headers=headers,\n",
    "            params=params,\n",
    "            data=data,\n",
    "            files=files)\n",
    "        return r\n",
    "    \n",
    "    def get(self, url: str, headers: dict) -> requests.models.Response:\n",
    "        r = requests.get(\n",
    "            url=url,\n",
    "            headers=headers)\n",
    "        return r\n",
    "    \n",
    "    def display_responce(self, responce: requests.models.Response) -> None:\n",
    "        json_formatted_str = json.dumps(json.loads(responce.text), indent = 2)\n",
    "        print(f\"Request status:\\n{responce}\\n{json_formatted_str}\")\n",
    "    \n",
    "    def toggle_lights(self, verbose: bool = False) -> None:\n",
    "        current_status = self.get(self.lights_url, self.HEADERS)\n",
    "        current_status = json.loads(current_status.text)\n",
    "        is_on = current_status['on']\n",
    "        responce_data = json.dumps({\"on\": not(is_on)})\n",
    "        toggle_responce = self.post(url = self.lights_url, headers=self.HEADERS, data=responce_data)\n",
    "        if verbose:\n",
    "            self.display_responce(toggle_responce)\n",
    "\n",
    "    def create_run(self, protocol_id: str = None, verbose: bool = True) -> None:\n",
    "        if protocol_id:\n",
    "            protocol_id_payload = json.dumps({\"data\":{\"protocolId\": protocol_id}})\n",
    "            r = self.post(self.runs_url, self.HEADERS, data = protocol_id_payload)\n",
    "        else:\n",
    "            r = self.post(self.runs_url, self.HEADERS)\n",
    "        run_id = json.loads(r.text)['data']['id']\n",
    "        self.run_id = run_id\n",
    "        if verbose:\n",
    "            self.display_responce(r)\n",
    "\n",
    "    def home_robot(self, verbose: bool = True) -> None:\n",
    "        command_dict = {\"target\": \"robot\"}\n",
    "        command_payload = json.dumps(command_dict)\n",
    "        r = self.post(url = self.home_url, headers=self.HEADERS, data = command_payload)\n",
    "        if verbose:\n",
    "            self.display_responce(r)\n",
    "\n",
    "    def load_pipette(self, mount: str = 'left', verbose: bool = True) -> None:\n",
    "        if self.run_id is None:\n",
    "            print('No current run associated with the robot. Create a run first.')\n",
    "            return\n",
    "        self.commands_url = f\"{self.runs_url}/{self.run_id}/commands\"\n",
    "        command_dict = {\n",
    "            \"data\": {\n",
    "                \"commandType\": \"loadPipette\",\n",
    "                \"params\": {\n",
    "                    \"pipetteName\": self.PIPETTE,\n",
    "                    \"mount\": mount\n",
    "                },\n",
    "                \"intent\": \"setup\"\n",
    "            }\n",
    "        }\n",
    "        command_payload = json.dumps(command_dict)\n",
    "        r = self.post(url = self.commands_url, headers= self.HEADERS,\n",
    "                      params={\"waitUntilComplete\": True}, data = command_payload)\n",
    "        if json.loads(r.text)['data']['status'] == 'succeeded':\n",
    "            self.pipette_id = json.loads(r.text)['data']['result']['pipetteId']\n",
    "        \n",
    "        if verbose:\n",
    "            self.display_responce(r)\n",
    "\n",
    "    def upload_protocol(self, PROTOCOL_FILE: str, LABWARE_FILE: str = None, verbose: bool = True) -> None:\n",
    "        \n",
    "        protocol_file_payload = open(PROTOCOL_FILE, \"rb\")\n",
    "        files = [(\"files\", protocol_file_payload)]\n",
    "        if LABWARE_FILE:\n",
    "            labware_file_payload = open(LABWARE_FILE, \"rb\")\n",
    "            files.append((\"files\", labware_file_payload))\n",
    "\n",
    "        r = self.post(url = self.protocols_url, headers = self.HEADERS, files = files)\n",
    "\n",
    "        if verbose:\n",
    "            self.display_responce(r)\n",
    "        r_dict = json.loads(r.text)\n",
    "        self.protocol_id = r_dict[\"data\"][\"id\"]\n",
    "        print(f\"Protocol ID:\\n{self.protocol_id}\")\n",
    "\n",
    "        protocol_file_payload.close()\n",
    "        if LABWARE_FILE:\n",
    "            labware_file_payload.close()\n",
    "\n",
    "    def run_protocol(self) -> None:\n",
    "        if self.run_id is None:\n",
    "            print('No current run associated with the robot. Create a run with a protocol attached first.')\n",
    "            return\n",
    "        actions_url = f\"{self.runs_url}/{self.run_id}/actions\"\n",
    "        action_payload = json.dumps({\"data\":{\"actionType\": \"play\"}})\n",
    "\n",
    "        r = requests.post(\n",
    "            url=actions_url,\n",
    "            headers=self.HEADERS,\n",
    "            data=action_payload\n",
    "\t)\n",
    "        \n",
    "    def move_to_coordinates(self, coordinates: tuple, min_z_height: float = 20.0, force_direct: bool = False, verbose: bool = True) -> None:\n",
    "        if self.pipette_id is None:\n",
    "            print('Pipette not loaded. Load pipette first.')\n",
    "            return\n",
    "\n",
    "        if len(coordinates) != 3:\n",
    "            print(f'Coordinate tuple needs 3 values, got {len(coordinates)} instead.')\n",
    "            return\n",
    "\n",
    "        x,y,z = coordinates\n",
    "        command_dict = {\n",
    "            \"data\": {\n",
    "                \"commandType\": \"moveToCoordinates\",\n",
    "                \"params\": {\n",
    "                    \"coordinates\": {\"x\": x, \"y\": y, \"z\": z},\n",
    "                    \"minimumZHeight\": min_z_height,\n",
    "                    \"forceDirect\": force_direct,\n",
    "                    \"pipetteId\": self.pipette_id\n",
    "                },\n",
    "                \"intent\": \"setup\"\n",
    "            }\n",
    "        }\n",
    "\n",
    "        command_payload = json.dumps(command_dict)\n",
    "        r = self.post(url = self.commands_url, headers= self.HEADERS,\n",
    "                      params={\"waitUntilComplete\": True}, data = command_payload)\n",
    "        if verbose == True:\n",
    "            self.display_responce(r)\n",
    "\n",
    "\n",
    "    def get_all_runs(self) -> requests.models.Response:\n",
    "        r = self.get(self.runs_url, self.HEADERS)\n",
    "        return r\n",
    "    \n",
    "    def get_run_info(self) -> dict:\n",
    "        all_runs_json = self.get_all_runs()\n",
    "        all_runs_json = json.loads(all_runs_json.text)\n",
    "        data = all_runs_json['data']\n",
    "        current_run_id = None\n",
    "        current_run_status = None\n",
    "        for run in data:\n",
    "            if run['current'] == True:\n",
    "                current_run_id = run['id']\n",
    "                current_run_status = run['status']\n",
    "                self.run_id = current_run_id\n",
    "\n",
    "        print(f'Total number of runs: {all_runs_json['meta']['totalLength']}')\n",
    "        print(f'Current run ID: {current_run_id}')\n",
    "        print(f'Current run status: {current_run_status}')\n",
    "        return data"
   ]
  },
  {
   "cell_type": "markdown",
   "metadata": {},
   "source": [
    "# API commands"
   ]
  },
  {
   "cell_type": "code",
   "execution_count": 3,
   "metadata": {},
   "outputs": [],
   "source": [
    "openapi = OpentronsAPI()"
   ]
  },
  {
   "cell_type": "code",
   "execution_count": 4,
   "metadata": {},
   "outputs": [],
   "source": [
    "openapi.toggle_lights()"
   ]
  },
  {
   "cell_type": "code",
   "execution_count": 5,
   "metadata": {},
   "outputs": [
    {
     "name": "stdout",
     "output_type": "stream",
     "text": [
      "Request status:\n",
      "<Response [201]>\n",
      "{\n",
      "  \"data\": {\n",
      "    \"id\": \"e3ae1808-09c9-4bc4-a923-68bc331fdbd0\",\n",
      "    \"ok\": true,\n",
      "    \"createdAt\": \"2024-07-09T23:11:43.521465+00:00\",\n",
      "    \"status\": \"idle\",\n",
      "    \"current\": true,\n",
      "    \"actions\": [],\n",
      "    \"errors\": [],\n",
      "    \"pipettes\": [],\n",
      "    \"modules\": [],\n",
      "    \"labware\": [],\n",
      "    \"liquids\": [],\n",
      "    \"labwareOffsets\": [],\n",
      "    \"runTimeParameters\": []\n",
      "  }\n",
      "}\n"
     ]
    }
   ],
   "source": [
    "openapi.create_run()"
   ]
  },
  {
   "cell_type": "code",
   "execution_count": 6,
   "metadata": {},
   "outputs": [
    {
     "name": "stdout",
     "output_type": "stream",
     "text": [
      "Total number of runs: 20\n",
      "Current run ID: e3ae1808-09c9-4bc4-a923-68bc331fdbd0\n",
      "Current run status: idle\n"
     ]
    }
   ],
   "source": [
    "_ = openapi.get_run_info()"
   ]
  },
  {
   "cell_type": "code",
   "execution_count": 14,
   "metadata": {},
   "outputs": [
    {
     "name": "stdout",
     "output_type": "stream",
     "text": [
      "Request status:\n",
      "<Response [200]>\n",
      "{}\n"
     ]
    }
   ],
   "source": [
    "runs_url = f\"http://{openapi.ROBOT_IP}:31950/runs\"\n",
    "delete_run_url = f\"{runs_url}/{openapi.run_id}\"\n",
    "\n",
    "r = requests.delete(\n",
    "\turl=delete_run_url,\n",
    "\theaders=openapi.HEADERS\n",
    "\t)\n",
    "\n",
    "print(f\"Request status:\\n{r}\\n{r.text}\")"
   ]
  },
  {
   "cell_type": "code",
   "execution_count": 5,
   "metadata": {},
   "outputs": [
    {
     "name": "stdout",
     "output_type": "stream",
     "text": [
      "Request status:\n",
      "<Response [200]>\n",
      "{\n",
      "  \"message\": \"Homing robot.\"\n",
      "}\n"
     ]
    }
   ],
   "source": [
    "openapi.home_robot()"
   ]
  },
  {
   "cell_type": "code",
   "execution_count": 6,
   "metadata": {},
   "outputs": [
    {
     "name": "stdout",
     "output_type": "stream",
     "text": [
      "No current run associated with the robot. Create a run first.\n"
     ]
    }
   ],
   "source": [
    "openapi.load_pipette()"
   ]
  },
  {
   "cell_type": "code",
   "execution_count": 8,
   "metadata": {},
   "outputs": [
    {
     "data": {
      "text/plain": [
       "{'positions': {'change_pipette': {'target': 'mount',\n",
       "   'left': [300.0, 40.0, 30.0],\n",
       "   'right': [95.0, 40.0, 30.0]},\n",
       "  'attach_tip': {'target': 'pipette', 'point': [200.0, 90.0, 150.0]}}}"
      ]
     },
     "execution_count": 8,
     "metadata": {},
     "output_type": "execute_result"
    }
   ],
   "source": [
    "url = f\"http://{openapi.ROBOT_IP}:31950/robot/positions\"\n",
    "r = openapi.get(url, openapi.HEADERS)\n",
    "json.loads(r.text)"
   ]
  },
  {
   "cell_type": "code",
   "execution_count": 17,
   "metadata": {},
   "outputs": [
    {
     "name": "stdout",
     "output_type": "stream",
     "text": [
      "Request status:\n",
      "<Response [201]>\n",
      "{\n",
      "  \"data\": {\n",
      "    \"id\": \"05fa1ba8-a5ef-4902-b2b9-2c4dbf3686ae\",\n",
      "    \"createdAt\": \"2024-07-09T23:15:57.383055+00:00\",\n",
      "    \"commandType\": \"moveToCoordinates\",\n",
      "    \"key\": \"05fa1ba8-a5ef-4902-b2b9-2c4dbf3686ae\",\n",
      "    \"status\": \"succeeded\",\n",
      "    \"params\": {\n",
      "      \"minimumZHeight\": 1.0,\n",
      "      \"forceDirect\": false,\n",
      "      \"pipetteId\": \"cebdecef-c790-4e3a-a962-8ebe365f6da2\",\n",
      "      \"coordinates\": {\n",
      "        \"x\": 200.0,\n",
      "        \"y\": 50.0,\n",
      "        \"z\": 170.0\n",
      "      }\n",
      "    },\n",
      "    \"result\": {\n",
      "      \"position\": {\n",
      "        \"x\": 200.0,\n",
      "        \"y\": 50.0,\n",
      "        \"z\": 170.0\n",
      "      }\n",
      "    },\n",
      "    \"startedAt\": \"2024-07-09T23:15:57.384884+00:00\",\n",
      "    \"completedAt\": \"2024-07-09T23:15:57.717399+00:00\",\n",
      "    \"intent\": \"setup\",\n",
      "    \"notes\": []\n",
      "  }\n",
      "}\n"
     ]
    }
   ],
   "source": [
    "openapi.move_to_coordinates((200,50,170), min_z_height=1)"
   ]
  },
  {
   "cell_type": "markdown",
   "metadata": {},
   "source": [
    "### Load and execute protocol"
   ]
  },
  {
   "cell_type": "code",
   "execution_count": 7,
   "metadata": {},
   "outputs": [
    {
     "ename": "FileNotFoundError",
     "evalue": "[Errno 2] No such file or directory: './protocols/test.py'",
     "output_type": "error",
     "traceback": [
      "\u001b[1;31m---------------------------------------------------------------------------\u001b[0m",
      "\u001b[1;31mFileNotFoundError\u001b[0m                         Traceback (most recent call last)",
      "Cell \u001b[1;32mIn[7], line 3\u001b[0m\n\u001b[0;32m      1\u001b[0m PROTOCOL_FILE \u001b[38;5;241m=\u001b[39m \u001b[38;5;124m\"\u001b[39m\u001b[38;5;124m./protocols/test.py\u001b[39m\u001b[38;5;124m\"\u001b[39m\n\u001b[0;32m      2\u001b[0m LABWARE_FILE \u001b[38;5;241m=\u001b[39m \u001b[38;5;124m\"\u001b[39m\u001b[38;5;124m./vwr_96_tiprack_200ul.json\u001b[39m\u001b[38;5;124m\"\u001b[39m\n\u001b[1;32m----> 3\u001b[0m \u001b[43mopenapi\u001b[49m\u001b[38;5;241;43m.\u001b[39;49m\u001b[43mupload_protocol\u001b[49m\u001b[43m(\u001b[49m\u001b[43mPROTOCOL_FILE\u001b[49m\u001b[43m,\u001b[49m\u001b[43m \u001b[49m\u001b[43mLABWARE_FILE\u001b[49m\u001b[43m)\u001b[49m\n",
      "Cell \u001b[1;32mIn[2], line 87\u001b[0m, in \u001b[0;36mOpentronsAPI.upload_protocol\u001b[1;34m(self, PROTOCOL_FILE, LABWARE_FILE, verbose)\u001b[0m\n\u001b[0;32m     85\u001b[0m \u001b[38;5;28;01mdef\u001b[39;00m \u001b[38;5;21mupload_protocol\u001b[39m(\u001b[38;5;28mself\u001b[39m, PROTOCOL_FILE: \u001b[38;5;28mstr\u001b[39m, LABWARE_FILE: \u001b[38;5;28mstr\u001b[39m \u001b[38;5;241m=\u001b[39m \u001b[38;5;28;01mNone\u001b[39;00m, verbose: \u001b[38;5;28mbool\u001b[39m \u001b[38;5;241m=\u001b[39m \u001b[38;5;28;01mTrue\u001b[39;00m) \u001b[38;5;241m-\u001b[39m\u001b[38;5;241m>\u001b[39m \u001b[38;5;28;01mNone\u001b[39;00m:\n\u001b[1;32m---> 87\u001b[0m     protocol_file_payload \u001b[38;5;241m=\u001b[39m \u001b[38;5;28;43mopen\u001b[39;49m\u001b[43m(\u001b[49m\u001b[43mPROTOCOL_FILE\u001b[49m\u001b[43m,\u001b[49m\u001b[43m \u001b[49m\u001b[38;5;124;43m\"\u001b[39;49m\u001b[38;5;124;43mrb\u001b[39;49m\u001b[38;5;124;43m\"\u001b[39;49m\u001b[43m)\u001b[49m\n\u001b[0;32m     88\u001b[0m     files \u001b[38;5;241m=\u001b[39m [(\u001b[38;5;124m\"\u001b[39m\u001b[38;5;124mfiles\u001b[39m\u001b[38;5;124m\"\u001b[39m, protocol_file_payload)]\n\u001b[0;32m     89\u001b[0m     \u001b[38;5;28;01mif\u001b[39;00m LABWARE_FILE:\n",
      "File \u001b[1;32mc:\\Users\\User\\anaconda3\\envs\\lab\\Lib\\site-packages\\IPython\\core\\interactiveshell.py:324\u001b[0m, in \u001b[0;36m_modified_open\u001b[1;34m(file, *args, **kwargs)\u001b[0m\n\u001b[0;32m    317\u001b[0m \u001b[38;5;28;01mif\u001b[39;00m file \u001b[38;5;129;01min\u001b[39;00m {\u001b[38;5;241m0\u001b[39m, \u001b[38;5;241m1\u001b[39m, \u001b[38;5;241m2\u001b[39m}:\n\u001b[0;32m    318\u001b[0m     \u001b[38;5;28;01mraise\u001b[39;00m \u001b[38;5;167;01mValueError\u001b[39;00m(\n\u001b[0;32m    319\u001b[0m         \u001b[38;5;124mf\u001b[39m\u001b[38;5;124m\"\u001b[39m\u001b[38;5;124mIPython won\u001b[39m\u001b[38;5;124m'\u001b[39m\u001b[38;5;124mt let you open fd=\u001b[39m\u001b[38;5;132;01m{\u001b[39;00mfile\u001b[38;5;132;01m}\u001b[39;00m\u001b[38;5;124m by default \u001b[39m\u001b[38;5;124m\"\u001b[39m\n\u001b[0;32m    320\u001b[0m         \u001b[38;5;124m\"\u001b[39m\u001b[38;5;124mas it is likely to crash IPython. If you know what you are doing, \u001b[39m\u001b[38;5;124m\"\u001b[39m\n\u001b[0;32m    321\u001b[0m         \u001b[38;5;124m\"\u001b[39m\u001b[38;5;124myou can use builtins\u001b[39m\u001b[38;5;124m'\u001b[39m\u001b[38;5;124m open.\u001b[39m\u001b[38;5;124m\"\u001b[39m\n\u001b[0;32m    322\u001b[0m     )\n\u001b[1;32m--> 324\u001b[0m \u001b[38;5;28;01mreturn\u001b[39;00m \u001b[43mio_open\u001b[49m\u001b[43m(\u001b[49m\u001b[43mfile\u001b[49m\u001b[43m,\u001b[49m\u001b[43m \u001b[49m\u001b[38;5;241;43m*\u001b[39;49m\u001b[43margs\u001b[49m\u001b[43m,\u001b[49m\u001b[43m \u001b[49m\u001b[38;5;241;43m*\u001b[39;49m\u001b[38;5;241;43m*\u001b[39;49m\u001b[43mkwargs\u001b[49m\u001b[43m)\u001b[49m\n",
      "\u001b[1;31mFileNotFoundError\u001b[0m: [Errno 2] No such file or directory: './protocols/test.py'"
     ]
    }
   ],
   "source": [
    "PROTOCOL_FILE = \"./protocols/test.py\"\n",
    "LABWARE_FILE = \"./vwr_96_tiprack_200ul.json\"\n",
    "openapi.upload_protocol(PROTOCOL_FILE, LABWARE_FILE)"
   ]
  },
  {
   "cell_type": "code",
   "execution_count": 28,
   "metadata": {},
   "outputs": [
    {
     "name": "stdout",
     "output_type": "stream",
     "text": [
      "Request status:\n",
      "<Response [201]>\n",
      "{\n",
      "  \"data\": {\n",
      "    \"id\": \"f6a256ac-261c-41f6-ba4e-0692bf2055c4\",\n",
      "    \"ok\": true,\n",
      "    \"createdAt\": \"2024-07-09T23:42:14.581162+00:00\",\n",
      "    \"status\": \"idle\",\n",
      "    \"current\": true,\n",
      "    \"actions\": [],\n",
      "    \"errors\": [],\n",
      "    \"pipettes\": [],\n",
      "    \"modules\": [],\n",
      "    \"labware\": [],\n",
      "    \"liquids\": [],\n",
      "    \"labwareOffsets\": [],\n",
      "    \"runTimeParameters\": [],\n",
      "    \"protocolId\": \"5027fe50-5f0a-423c-9ce4-2b2d8e18e3df\"\n",
      "  }\n",
      "}\n"
     ]
    }
   ],
   "source": [
    "openapi.create_run(protocol_id=openapi.protocol_id)"
   ]
  },
  {
   "cell_type": "code",
   "execution_count": 29,
   "metadata": {},
   "outputs": [],
   "source": [
    "openapi.run_protocol()"
   ]
  },
  {
   "cell_type": "code",
   "execution_count": 22,
   "metadata": {},
   "outputs": [
    {
     "name": "stdout",
     "output_type": "stream",
     "text": [
      "Protocols list:\n",
      "{'id': 'dafb7d77-8245-448d-9864-27fa1e3137d5', 'createdAt': '2024-05-14T22:57:28.389017+00:00', 'files': [{'name': 'test_vwr_96_tiprack_200ul.py', 'role': 'main'}, {'name': 'vwr_96_tiprack_200ul.json', 'role': 'labware'}], 'protocolType': 'python', 'robotType': 'OT-2 Standard', 'metadata': {'apiLevel': '2.0'}, 'analyses': [], 'analysisSummaries': [{'id': 'a9ee0d6c-94d5-4001-894e-e31f6a51450c', 'status': 'completed'}], 'key': 'a90763dc-bb0f-4f8b-849d-3e5b31cf6a46'}\n",
      "{'id': 'e40e72fa-9362-4434-adcc-b72c6c67ed71', 'createdAt': '2024-05-14T23:13:32.939907+00:00', 'files': [{'name': 'test_vwr_96_tiprack_200ul.py', 'role': 'main'}, {'name': 'vwr_96_tiprack_200ul.json', 'role': 'labware'}], 'protocolType': 'python', 'robotType': 'OT-2 Standard', 'metadata': {'apiLevel': '2.0'}, 'analyses': [], 'analysisSummaries': [{'id': '24db9ff8-f373-48cd-807b-9a07a89882e4', 'status': 'completed'}], 'key': '918a57f2-1e17-4735-af45-cd1bcad0aef9'}\n",
      "{'id': '3047424e-0c54-45e0-8783-1444f0e75e26', 'createdAt': '2024-07-09T20:50:01.490185+00:00', 'files': [{'name': 'test_vwr_96_tiprack_200ul.py', 'role': 'main'}, {'name': 'vwr_96_tiprack_200ul.json', 'role': 'labware'}], 'protocolType': 'python', 'robotType': 'OT-2 Standard', 'metadata': {'apiLevel': '2.0'}, 'analyses': [], 'analysisSummaries': [{'id': 'fe2de840-4154-4697-b160-7da490e270b7', 'status': 'completed'}], 'key': '48ec9fe1-3313-440f-9711-c96b4de7b4c1'}\n",
      "{'id': '1c062d08-fbac-458b-8acb-554855f75595', 'createdAt': '2024-07-09T21:34:26.485827+00:00', 'files': [{'name': 'test.py', 'role': 'main'}], 'protocolType': 'python', 'robotType': 'OT-2 Standard', 'metadata': {'description': 'Simple protocol to get started using the OT-2', 'protocolName': 'My Protocol', 'author': 'Ivan'}, 'analyses': [], 'analysisSummaries': [{'id': 'cc15fe0e-4043-4e35-95de-e9d1dbc89cb8', 'status': 'completed'}]}\n",
      "{'id': 'd5f4b7c7-b153-477a-8329-8ebe140f805e', 'createdAt': '2024-07-09T21:35:52.326347+00:00', 'files': [{'name': 'test.py', 'role': 'main'}, {'name': 'vwr_96_tiprack_200ul.json', 'role': 'labware'}], 'protocolType': 'python', 'robotType': 'OT-2 Standard', 'metadata': {'description': 'Simple protocol to get started using the OT-2', 'protocolName': 'My Protocol', 'author': 'Ivan'}, 'analyses': [], 'analysisSummaries': [{'id': 'e2811946-2a27-45cb-b7c4-bfacfa674b0f', 'status': 'completed'}]}\n",
      "{'id': '7c4857a6-5a35-442f-981b-f5b979520932', 'createdAt': '2024-07-09T22:43:55.236381+00:00', 'files': [{'name': 'test.py', 'role': 'main'}, {'name': 'vwr_96_tiprack_200ul.json', 'role': 'labware'}], 'protocolType': 'python', 'robotType': 'OT-2 Standard', 'metadata': {'description': 'Simple protocol to get started using the OT-2', 'protocolName': 'My Protocol', 'author': 'Ivan'}, 'analyses': [], 'analysisSummaries': [{'id': 'c4a61b34-15b1-4c08-99a7-ea039d1c4ba9', 'status': 'completed'}]}\n",
      "{'id': '3a560fab-ce51-442c-a46b-0f06b98441f9', 'createdAt': '2024-07-09T23:33:47.689639+00:00', 'files': [{'name': 'test.py', 'role': 'main'}, {'name': 'vwr_96_tiprack_200ul.json', 'role': 'labware'}], 'protocolType': 'python', 'robotType': 'OT-2 Standard', 'metadata': {'description': 'Testing cuboid pipettes for liquid handling', 'protocolName': 'Testing custom pipettes', 'author': 'Ivan'}, 'analyses': [], 'analysisSummaries': [{'id': 'f73be5ad-7f69-4f06-9d85-7de5830484fa', 'status': 'completed'}]}\n"
     ]
    }
   ],
   "source": [
    "protocols_url = f\"http://{openapi.ROBOT_IP}:31950/protocols\"\n",
    "\n",
    "r = requests.get(\n",
    "\turl=protocols_url,\n",
    "\theaders=openapi.HEADERS\n",
    "\t)\n",
    "\n",
    "protocols_dict = json.loads(r.text)\n",
    "print(\"Protocols list:\")\n",
    "for p in protocols_dict[\"data\"]:\n",
    "\tprint(p)"
   ]
  },
  {
   "cell_type": "markdown",
   "metadata": {},
   "source": [
    "### Liquid pickup attempt"
   ]
  },
  {
   "cell_type": "code",
   "execution_count": 9,
   "metadata": {},
   "outputs": [],
   "source": [
    "TIP_RACK = \"opentrons_96_tiprack_300ul\"\n",
    "TIP_RACK2 = \"vwr_96_tiprack_200ul\"\n",
    "RESERVOIR = \"nest_12_reservoir_15ml\"\n",
    "WELL_PLATE = \"corning_96_wellplate_360ul_flat\""
   ]
  },
  {
   "cell_type": "code",
   "execution_count": 12,
   "metadata": {},
   "outputs": [],
   "source": [
    "\n",
    "LABWARE_FILE = \"./vwr_96_tiprack_200ul.json\"\n",
    "\n",
    "HEADERS = {\"opentrons-version\": \"3\"}\n",
    "\n",
    "protocols_url = f\"http://{openapi.ROBOT_IP}:31950/protocols\"\n",
    "\n",
    "labware_file_payload = open(LABWARE_FILE, \"rb\")\n",
    "\n",
    "r = requests.post(\n",
    "\turl=protocols_url,\n",
    "\theaders=HEADERS,\n",
    "\tfiles=[(\"files\", labware_file_payload)]\n",
    "\t)\n",
    "\n",
    "r_dict = json.loads(r.text)\n",
    "\n",
    "labware_file_payload.close()"
   ]
  },
  {
   "cell_type": "code",
   "execution_count": 13,
   "metadata": {},
   "outputs": [
    {
     "data": {
      "text/plain": [
       "{'errors': [{'id': 'ProtocolFilesInvalid',\n",
       "   'title': 'Protocol File(s) Invalid',\n",
       "   'detail': 'Error 4006 INVALID_PROTOCOL_DATA (RoleAnalysisError): \"vwr_96_tiprack_200ul.json\" is not a valid protocol file.',\n",
       "   'errorCode': '4000'}]}"
      ]
     },
     "execution_count": 13,
     "metadata": {},
     "output_type": "execute_result"
    }
   ],
   "source": [
    "r_dict"
   ]
  },
  {
   "cell_type": "code",
   "execution_count": 10,
   "metadata": {},
   "outputs": [
    {
     "name": "stdout",
     "output_type": "stream",
     "text": [
      "Command:\n",
      "{\"data\": {\"commandType\": \"loadLabware\", \"params\": {\"location\": {\"slotName\": \"1\"}, \"loadName\": \"vwr_96_tiprack_200ul\", \"namespace\": \"opentrons\", \"version\": 1}, \"intent\": \"setup\"}}\n"
     ]
    },
    {
     "ename": "KeyError",
     "evalue": "'result'",
     "output_type": "error",
     "traceback": [
      "\u001b[1;31m---------------------------------------------------------------------------\u001b[0m",
      "\u001b[1;31mKeyError\u001b[0m                                  Traceback (most recent call last)",
      "Cell \u001b[1;32mIn[10], line 26\u001b[0m\n\u001b[0;32m     18\u001b[0m r \u001b[38;5;241m=\u001b[39m requests\u001b[38;5;241m.\u001b[39mpost(\n\u001b[0;32m     19\u001b[0m \turl\u001b[38;5;241m=\u001b[39mopenapi\u001b[38;5;241m.\u001b[39mcommands_url,\n\u001b[0;32m     20\u001b[0m \theaders\u001b[38;5;241m=\u001b[39mopenapi\u001b[38;5;241m.\u001b[39mHEADERS,\n\u001b[0;32m     21\u001b[0m \tparams\u001b[38;5;241m=\u001b[39m{\u001b[38;5;124m\"\u001b[39m\u001b[38;5;124mwaitUntilComplete\u001b[39m\u001b[38;5;124m\"\u001b[39m: \u001b[38;5;28;01mTrue\u001b[39;00m},\n\u001b[0;32m     22\u001b[0m \tdata\u001b[38;5;241m=\u001b[39mcommand_payload\n\u001b[0;32m     23\u001b[0m \t)\n\u001b[0;32m     25\u001b[0m r_dict \u001b[38;5;241m=\u001b[39m json\u001b[38;5;241m.\u001b[39mloads(r\u001b[38;5;241m.\u001b[39mtext)\n\u001b[1;32m---> 26\u001b[0m labware_1_id \u001b[38;5;241m=\u001b[39m \u001b[43mr_dict\u001b[49m\u001b[43m[\u001b[49m\u001b[38;5;124;43m\"\u001b[39;49m\u001b[38;5;124;43mdata\u001b[39;49m\u001b[38;5;124;43m\"\u001b[39;49m\u001b[43m]\u001b[49m\u001b[43m[\u001b[49m\u001b[38;5;124;43m\"\u001b[39;49m\u001b[38;5;124;43mresult\u001b[39;49m\u001b[38;5;124;43m\"\u001b[39;49m\u001b[43m]\u001b[49m[\u001b[38;5;124m\"\u001b[39m\u001b[38;5;124mlabwareId\u001b[39m\u001b[38;5;124m\"\u001b[39m]\n\u001b[0;32m     27\u001b[0m \u001b[38;5;28mprint\u001b[39m(\u001b[38;5;124mf\u001b[39m\u001b[38;5;124m\"\u001b[39m\u001b[38;5;124mLabware 1 (tip rack) ID:\u001b[39m\u001b[38;5;130;01m\\n\u001b[39;00m\u001b[38;5;132;01m{\u001b[39;00mlabware_1_id\u001b[38;5;132;01m}\u001b[39;00m\u001b[38;5;130;01m\\n\u001b[39;00m\u001b[38;5;124m\"\u001b[39m)\n",
      "\u001b[1;31mKeyError\u001b[0m: 'result'"
     ]
    }
   ],
   "source": [
    "# Load labware 1 (tip rack)\n",
    "command_dict = {\n",
    "\t\"data\": {\n",
    "\t\t\"commandType\": \"loadLabware\",\n",
    "\t\t\"params\": {\n",
    "\t\t\t\"location\": {\"slotName\": \"1\"},\n",
    "\t\t\t\"loadName\": TIP_RACK2,\n",
    "\t\t\t\"namespace\": \"opentrons\",\n",
    "\t\t\t\"version\": 1\n",
    "\t\t},\n",
    "\t\t\"intent\": \"setup\"\n",
    "\t}\n",
    "}\n",
    "\n",
    "command_payload = json.dumps(command_dict)\n",
    "print(f\"Command:\\n{command_payload}\")\n",
    "\n",
    "r = requests.post(\n",
    "\turl=openapi.commands_url,\n",
    "\theaders=openapi.HEADERS,\n",
    "\tparams={\"waitUntilComplete\": True},\n",
    "\tdata=command_payload\n",
    "\t)\n",
    "\n",
    "r_dict = json.loads(r.text)\n",
    "labware_1_id = r_dict[\"data\"][\"result\"][\"labwareId\"]\n",
    "print(f\"Labware 1 (tip rack) ID:\\n{labware_1_id}\\n\")"
   ]
  },
  {
   "cell_type": "code",
   "execution_count": 11,
   "metadata": {},
   "outputs": [
    {
     "data": {
      "text/plain": [
       "{'data': {'id': '45a944ee-6211-4a26-b2ea-18bc6d86879d',\n",
       "  'createdAt': '2024-07-09T20:57:16.238835+00:00',\n",
       "  'commandType': 'loadLabware',\n",
       "  'key': '45a944ee-6211-4a26-b2ea-18bc6d86879d',\n",
       "  'status': 'failed',\n",
       "  'params': {'location': {'slotName': '1'},\n",
       "   'loadName': 'vwr_96_tiprack_200ul',\n",
       "   'namespace': 'opentrons',\n",
       "   'version': 1},\n",
       "  'error': {'id': '4ba83869-85b5-4e04-81e8-76df95c066d8',\n",
       "   'createdAt': '2024-07-09T20:57:16.281830+00:00',\n",
       "   'errorCode': '4000',\n",
       "   'errorType': 'PythonException',\n",
       "   'detail': 'FileNotFoundError: Labware \"vwr_96_tiprack_200ul\" not found with version 1 in namespace \"opentrons\".',\n",
       "   'errorInfo': {'args': '(\\'Labware \"vwr_96_tiprack_200ul\" not found with version 1 in namespace \"opentrons\".\\',)',\n",
       "    'errno': 'None',\n",
       "    'filename': 'None',\n",
       "    'filename2': 'None',\n",
       "    'strerror': 'None',\n",
       "    'traceback': '  File \"/usr/lib/python3.10/site-packages/opentrons/protocol_engine/execution/command_executor.py\", line 150, in execute\\n\\n  File \"/usr/lib/python3.10/site-packages/opentrons/protocol_engine/commands/load_labware.py\", line 130, in execute\\n\\n  File \"/usr/lib/python3.10/site-packages/opentrons/protocol_engine/execution/equipment.py\", line 166, in load_labware\\n\\n  File \"/usr/lib/python3.10/site-packages/anyio/_backends/_asyncio.py\", line 877, in run_sync_in_worker_thread\\n\\n  File \"/usr/lib/python3.10/site-packages/anyio/_backends/_asyncio.py\", line 807, in run\\n\\n  File \"/usr/lib/python3.10/site-packages/opentrons/protocol_engine/resources/labware_data_provider.py\", line 48, in _get_labware_definition_sync\\n\\n  File \"/usr/lib/python3.10/site-packages/opentrons/protocols/labware.py\", line 63, in get_labware_definition\\n\\n  File \"/usr/lib/python3.10/site-packages/opentrons/protocols/labware.py\", line 243, in _get_standard_labware_definition\\n',\n",
       "    'class': 'FileNotFoundError'},\n",
       "   'wrappedErrors': [{'id': '4ba83869-85b5-4e04-81e8-76df95c066d8',\n",
       "     'createdAt': '2024-07-09T20:57:16.281830+00:00',\n",
       "     'errorCode': '4000',\n",
       "     'errorType': 'PythonException',\n",
       "     'detail': 'opentrons.protocol_engine.errors.exceptions.LabwareDefinitionDoesNotExistError: Error 4000 GENERAL_ERROR (LabwareDefinitionDoesNotExistError): Labware definition for matching opentrons/vwr_96_tiprack_200ul/1 not found.',\n",
       "     'errorInfo': {'args': \"('Labware definition for matching opentrons/vwr_96_tiprack_200ul/1 not found.',)\",\n",
       "      'code': 'ErrorCodes.GENERAL_ERROR',\n",
       "      'detail': '{}',\n",
       "      'message': 'Labware definition for matching opentrons/vwr_96_tiprack_200ul/1 not found.',\n",
       "      'wrapping': '[]',\n",
       "      'traceback': '  File \"/usr/lib/python3.10/site-packages/opentrons/protocol_engine/execution/equipment.py\", line 164, in load_labware\\n\\n  File \"/usr/lib/python3.10/site-packages/opentrons/protocol_engine/state/labware.py\", line 346, in get_definition_by_uri\\n',\n",
       "      'class': 'LabwareDefinitionDoesNotExistError'},\n",
       "     'wrappedErrors': [{'id': '4ba83869-85b5-4e04-81e8-76df95c066d8',\n",
       "       'createdAt': '2024-07-09T20:57:16.281830+00:00',\n",
       "       'errorCode': '4000',\n",
       "       'errorType': 'PythonException',\n",
       "       'detail': \"KeyError: 'opentrons/vwr_96_tiprack_200ul/1'\",\n",
       "       'errorInfo': {'args': \"('opentrons/vwr_96_tiprack_200ul/1',)\",\n",
       "        'traceback': '  File \"/usr/lib/python3.10/site-packages/opentrons/protocol_engine/state/labware.py\", line 344, in get_definition_by_uri\\n',\n",
       "        'class': 'KeyError'},\n",
       "       'wrappedErrors': []},\n",
       "      {'id': '4ba83869-85b5-4e04-81e8-76df95c066d8',\n",
       "       'createdAt': '2024-07-09T20:57:16.281830+00:00',\n",
       "       'errorCode': '4000',\n",
       "       'errorType': 'PythonException',\n",
       "       'detail': \"KeyError: 'opentrons/vwr_96_tiprack_200ul/1'\",\n",
       "       'errorInfo': {'args': \"('opentrons/vwr_96_tiprack_200ul/1',)\",\n",
       "        'traceback': '  File \"/usr/lib/python3.10/site-packages/opentrons/protocol_engine/state/labware.py\", line 344, in get_definition_by_uri\\n',\n",
       "        'class': 'KeyError'},\n",
       "       'wrappedErrors': []}]}]},\n",
       "  'startedAt': '2024-07-09T20:57:16.240766+00:00',\n",
       "  'completedAt': '2024-07-09T20:57:16.281830+00:00',\n",
       "  'intent': 'setup',\n",
       "  'notes': []}}"
      ]
     },
     "execution_count": 11,
     "metadata": {},
     "output_type": "execute_result"
    }
   ],
   "source": [
    "r_dict"
   ]
  },
  {
   "cell_type": "code",
   "execution_count": 21,
   "metadata": {},
   "outputs": [
    {
     "name": "stdout",
     "output_type": "stream",
     "text": [
      "Command:\n",
      "{\"data\": {\"commandType\": \"loadLabware\", \"params\": {\"location\": {\"slotName\": \"3\"}, \"loadName\": \"corning_96_wellplate_360ul_flat\", \"namespace\": \"opentrons\", \"version\": 1}, \"intent\": \"setup\"}}\n",
      "Labware 2 (reservoir) ID:\n",
      "b7bc5044-bf0e-40f0-afc5-b4d10a037596\n",
      "\n"
     ]
    }
   ],
   "source": [
    "# Load labware 2 (reservoir)\n",
    "command_dict = {\n",
    "\t\"data\": {\n",
    "\t\t\"commandType\": \"loadLabware\",\n",
    "\t\t\"params\": {\n",
    "\t\t\t\"location\": {\"slotName\": \"3\"},\n",
    "\t\t\t\"loadName\": WELL_PLATE,\n",
    "\t\t\t\"namespace\": \"opentrons\",\n",
    "\t\t\t\"version\": 1\n",
    "\t\t},\n",
    "\t\t\"intent\": \"setup\"\n",
    "\t}\n",
    "}\n",
    "\n",
    "command_payload = json.dumps(command_dict)\n",
    "print(f\"Command:\\n{command_payload}\")\n",
    "\n",
    "r = requests.post(\n",
    "\turl=openapi.commands_url,\n",
    "\theaders=openapi.HEADERS,\n",
    "\tparams={\"waitUntilComplete\": True},\n",
    "\tdata=command_payload\n",
    "\t)\n",
    "\n",
    "r_dict = json.loads(r.text)\n",
    "labware_2_id = r_dict[\"data\"][\"result\"][\"labwareId\"]\n",
    "print(f\"Labware 2 (reservoir) ID:\\n{labware_2_id}\\n\")"
   ]
  },
  {
   "cell_type": "code",
   "execution_count": 22,
   "metadata": {},
   "outputs": [
    {
     "name": "stdout",
     "output_type": "stream",
     "text": [
      "Command:\n",
      "{\"data\": {\"commandType\": \"loadLabware\", \"params\": {\"location\": {\"slotName\": \"2\"}, \"loadName\": \"nest_1_reservoir_290ml\", \"namespace\": \"opentrons\", \"version\": 1}, \"intent\": \"setup\"}}\n",
      "Labware 3 (reservoir) ID:\n",
      "8c039e2a-5bd8-40d1-bd3b-3c06ea571ac9\n",
      "\n"
     ]
    }
   ],
   "source": [
    "command_dict = {\n",
    "\t\"data\": {\n",
    "\t\t\"commandType\": \"loadLabware\",\n",
    "\t\t\"params\": {\n",
    "\t\t\t\"location\": {\"slotName\": \"2\"},\n",
    "\t\t\t\"loadName\": \"nest_1_reservoir_290ml\",\n",
    "\t\t\t\"namespace\": \"opentrons\",\n",
    "\t\t\t\"version\": 1\n",
    "\t\t},\n",
    "\t\t\"intent\": \"setup\"\n",
    "\t}\n",
    "}\n",
    "\n",
    "command_payload = json.dumps(command_dict)\n",
    "print(f\"Command:\\n{command_payload}\")\n",
    "\n",
    "r = requests.post(\n",
    "\turl=openapi.commands_url,\n",
    "\theaders=openapi.HEADERS,\n",
    "\tparams={\"waitUntilComplete\": True},\n",
    "\tdata=command_payload\n",
    "\t)\n",
    "\n",
    "r_dict = json.loads(r.text)\n",
    "labware_3_id = r_dict[\"data\"][\"result\"][\"labwareId\"]\n",
    "print(f\"Labware 3 (reservoir) ID:\\n{labware_3_id}\\n\")"
   ]
  },
  {
   "cell_type": "code",
   "execution_count": 24,
   "metadata": {},
   "outputs": [
    {
     "name": "stdout",
     "output_type": "stream",
     "text": [
      "Command:\n",
      "{\"data\": {\"commandType\": \"pickUpTip\", \"params\": {\"labwareId\": \"35649278-ee0c-412e-8a6b-c1e6f6144d68\", \"wellName\": \"A1\", \"wellLocation\": {\"origin\": \"top\", \"offset\": {\"x\": 0, \"y\": 0, \"z\": 0}}, \"pipetteId\": \"e2534277-8a57-4760-8ea8-aebbdf19aa17\"}, \"intent\": \"setup\"}}\n",
      "\n",
      "Response:\n",
      "<Response [201]>\n",
      "{\"data\": {\"id\": \"a7fc69bd-20bc-4fcf-bb9c-0b2ad299b229\", \"createdAt\": \"2024-06-14T07:11:31.853808+00:00\", \"commandType\": \"pickUpTip\", \"key\": \"a7fc69bd-20bc-4fcf-bb9c-0b2ad299b229\", \"status\": \"queued\", \"params\": {\"labwareId\": \"35649278-ee0c-412e-8a6b-c1e6f6144d68\", \"wellName\": \"A1\", \"wellLocation\": {\"origin\": \"top\", \"offset\": {\"x\": 0.0, \"y\": 0.0, \"z\": 0.0}}, \"pipetteId\": \"e2534277-8a57-4760-8ea8-aebbdf19aa17\"}, \"intent\": \"setup\"}}\n",
      "\n"
     ]
    }
   ],
   "source": [
    "command_dict = {\n",
    "\t\"data\": {\n",
    "\t\t\"commandType\": \"pickUpTip\",\n",
    "\t\t\"params\": {\n",
    "\t\t\t\"labwareId\": labware_1_id,\n",
    "\t\t\t\"wellName\": \"A1\",\n",
    "\t\t\t\"wellLocation\": {\n",
    "\t\t\t\t\"origin\": \"top\", \"offset\": {\"x\": 0, \"y\": 0, \"z\": 0}\n",
    "\t\t\t},\n",
    "\t\t\t\"pipetteId\": openapi.pipette_id\n",
    "\t\t},\n",
    "\t\t\"intent\": \"setup\"\n",
    "\t}\n",
    "}\n",
    "\n",
    "command_payload = json.dumps(command_dict)\n",
    "print(f\"Command:\\n{command_payload}\\n\")\n",
    "\n",
    "r = requests.post(\n",
    "\turl=openapi.commands_url,\n",
    "\theaders=openapi.HEADERS,\n",
    "\tdata=command_payload\n",
    "\t)\n",
    "\n",
    "print(f\"Response:\\n{r}\\n{r.text}\\n\")"
   ]
  },
  {
   "cell_type": "code",
   "execution_count": 29,
   "metadata": {},
   "outputs": [
    {
     "name": "stdout",
     "output_type": "stream",
     "text": [
      "Command:\n",
      "{\"data\": {\"commandType\": \"aspirate\", \"params\": {\"labwareId\": \"8c039e2a-5bd8-40d1-bd3b-3c06ea571ac9\", \"wellName\": \"A1\", \"wellLocation\": {\"origin\": \"top\", \"offset\": {\"x\": 0, \"y\": 0, \"z\": -40}}, \"flowRate\": 10, \"volume\": 100, \"pipetteId\": \"e2534277-8a57-4760-8ea8-aebbdf19aa17\"}, \"intent\": \"setup\"}}\n",
      "\n",
      "Response:\n",
      "<Response [201]>\n",
      "{\"data\": {\"id\": \"b24f6040-137d-4a03-9e4f-84e973fb1c13\", \"createdAt\": \"2024-06-14T07:13:52.252198+00:00\", \"commandType\": \"aspirate\", \"key\": \"b24f6040-137d-4a03-9e4f-84e973fb1c13\", \"status\": \"succeeded\", \"params\": {\"labwareId\": \"8c039e2a-5bd8-40d1-bd3b-3c06ea571ac9\", \"wellName\": \"A1\", \"wellLocation\": {\"origin\": \"top\", \"offset\": {\"x\": 0.0, \"y\": 0.0, \"z\": -40.0}}, \"flowRate\": 10.0, \"volume\": 100.0, \"pipetteId\": \"e2534277-8a57-4760-8ea8-aebbdf19aa17\"}, \"result\": {\"position\": {\"x\": 196.38, \"y\": 42.74, \"z\": 4.399999999999997}, \"volume\": 100.0}, \"startedAt\": \"2024-06-14T07:13:52.253813+00:00\", \"completedAt\": \"2024-06-14T07:14:06.759121+00:00\", \"intent\": \"setup\"}}\n",
      "\n"
     ]
    }
   ],
   "source": [
    "# openapi.move_to_coordinates((200,50,50), min_z_height=1)\n",
    "# openapi.move_to_coordinates((200,50,5), min_z_height=1)\n",
    "\n",
    "\n",
    "command_dict = {\n",
    "\t\"data\": {\n",
    "\t\t\"commandType\": \"aspirate\",\n",
    "\t\t\"params\": {\n",
    "\t\t\t\"labwareId\": labware_3_id,\n",
    "\t\t\t\"wellName\": \"A1\",\n",
    "\t\t\t\"wellLocation\": {\n",
    "\t\t\t\t\"origin\": \"top\", \"offset\": {\"x\": 0, \"y\": 0, \"z\": -40}\n",
    "\t\t\t},\n",
    "\t\t\t\"flowRate\": 10,\n",
    "\t\t\t\"volume\": 100,\n",
    "\t\t\t\"pipetteId\": openapi.pipette_id\n",
    "\t\t},\n",
    "\t\t\"intent\": \"setup\"\n",
    "\t}\n",
    "}\n",
    "\n",
    "command_payload = json.dumps(command_dict)\n",
    "print(f\"Command:\\n{command_payload}\\n\")\n",
    "\n",
    "r = requests.post(\n",
    "\turl=openapi.commands_url,\n",
    "\theaders=openapi.HEADERS,\n",
    "\tdata=command_payload,\n",
    "    params={\"waitUntilComplete\": True}\n",
    "\t)\n",
    "\n",
    "print(f\"Response:\\n{r}\\n{r.text}\\n\")"
   ]
  },
  {
   "cell_type": "code",
   "execution_count": 30,
   "metadata": {},
   "outputs": [
    {
     "name": "stdout",
     "output_type": "stream",
     "text": [
      "Command:\n",
      "{\"data\": {\"commandType\": \"dispense\", \"params\": {\"labwareId\": \"b7bc5044-bf0e-40f0-afc5-b4d10a037596\", \"wellName\": \"A2\", \"wellLocation\": {\"origin\": \"top\", \"offset\": {\"x\": 0, \"y\": 0, \"z\": 0}}, \"flowRate\": 10, \"volume\": 100, \"pipetteId\": \"e2534277-8a57-4760-8ea8-aebbdf19aa17\"}, \"intent\": \"setup\"}}\n",
      "\n",
      "Response:\n",
      "<Response [201]>\n",
      "{\"data\": {\"id\": \"4386471b-66b2-4395-a355-a151021e5adc\", \"createdAt\": \"2024-06-14T07:14:06.843683+00:00\", \"commandType\": \"dispense\", \"key\": \"4386471b-66b2-4395-a355-a151021e5adc\", \"status\": \"succeeded\", \"params\": {\"labwareId\": \"b7bc5044-bf0e-40f0-afc5-b4d10a037596\", \"wellName\": \"A2\", \"wellLocation\": {\"origin\": \"top\", \"offset\": {\"x\": 0.0, \"y\": 0.0, \"z\": 0.0}}, \"flowRate\": 10.0, \"volume\": 100.0, \"pipetteId\": \"e2534277-8a57-4760-8ea8-aebbdf19aa17\"}, \"result\": {\"position\": {\"x\": 288.38, \"y\": 74.24, \"z\": 14.219999999999999}, \"volume\": 100.0}, \"startedAt\": \"2024-06-14T07:14:06.845252+00:00\", \"completedAt\": \"2024-06-14T07:14:19.409160+00:00\", \"intent\": \"setup\"}}\n",
      "\n"
     ]
    }
   ],
   "source": [
    "command_dict = {\n",
    "\t\"data\": {\n",
    "\t\t\"commandType\": \"dispense\",\n",
    "\t\t\"params\": {\n",
    "\t\t\t\"labwareId\": labware_2_id,\n",
    "\t\t\t\"wellName\": \"A2\",\n",
    "\t\t\t\"wellLocation\": {\n",
    "\t\t\t\t\"origin\": \"top\", \"offset\": {\"x\": 0, \"y\": 0, \"z\": 0}\n",
    "\t\t\t},\n",
    "\t\t\t\"flowRate\": 10,\n",
    "\t\t\t\"volume\": 100,\n",
    "\t\t\t\"pipetteId\": openapi.pipette_id\n",
    "\t\t},\n",
    "\t\t\"intent\": \"setup\"\n",
    "\t}\n",
    "}\n",
    "\n",
    "command_payload = json.dumps(command_dict)\n",
    "print(f\"Command:\\n{command_payload}\\n\")\n",
    "\n",
    "r = requests.post(\n",
    "\turl=openapi.commands_url,\n",
    "\theaders=openapi.HEADERS,\n",
    "\tdata=command_payload,\n",
    "    params={\"waitUntilComplete\": True}\n",
    "\t)\n",
    "\n",
    "print(f\"Response:\\n{r}\\n{r.text}\\n\")"
   ]
  },
  {
   "cell_type": "code",
   "execution_count": 31,
   "metadata": {},
   "outputs": [
    {
     "name": "stdout",
     "output_type": "stream",
     "text": [
      "Command:\n",
      "{\"data\": {\"commandType\": \"blowout\", \"params\": {\"labwareId\": \"b7bc5044-bf0e-40f0-afc5-b4d10a037596\", \"wellName\": \"A2\", \"wellLocation\": {\"origin\": \"top\", \"offset\": {\"x\": 0, \"y\": 0, \"z\": 0}}, \"flowRate\": 10, \"pipetteId\": \"e2534277-8a57-4760-8ea8-aebbdf19aa17\"}, \"intent\": \"setup\"}}\n",
      "\n",
      "Response:\n",
      "<Response [201]>\n",
      "{\"data\": {\"id\": \"25f080f9-bf07-4ea1-831f-f2e6c9e661f3\", \"createdAt\": \"2024-06-14T07:14:19.467575+00:00\", \"commandType\": \"blowout\", \"key\": \"25f080f9-bf07-4ea1-831f-f2e6c9e661f3\", \"status\": \"succeeded\", \"params\": {\"labwareId\": \"b7bc5044-bf0e-40f0-afc5-b4d10a037596\", \"wellName\": \"A2\", \"wellLocation\": {\"origin\": \"top\", \"offset\": {\"x\": 0.0, \"y\": 0.0, \"z\": 0.0}}, \"flowRate\": 10.0, \"pipetteId\": \"e2534277-8a57-4760-8ea8-aebbdf19aa17\"}, \"result\": {\"position\": {\"x\": 288.38, \"y\": 74.24, \"z\": 14.219999999999999}}, \"startedAt\": \"2024-06-14T07:14:19.469225+00:00\", \"completedAt\": \"2024-06-14T07:14:23.883102+00:00\", \"intent\": \"setup\"}}\n",
      "\n"
     ]
    }
   ],
   "source": [
    "command_dict = {\n",
    "\t\"data\": {\n",
    "\t\t\"commandType\": \"blowout\",\n",
    "\t\t\"params\": {\n",
    "\t\t\t\"labwareId\": labware_2_id,\n",
    "\t\t\t\"wellName\": \"A2\",\n",
    "\t\t\t\"wellLocation\": {\n",
    "\t\t\t\t\"origin\": \"top\", \"offset\": {\"x\": 0, \"y\": 0, \"z\": 0}\n",
    "\t\t\t},\n",
    "\t\t\t\"flowRate\": 10,\n",
    "\t\t\t\"pipetteId\": openapi.pipette_id\n",
    "\t\t},\n",
    "\t\t\"intent\": \"setup\"\n",
    "\t}\n",
    "}\n",
    "\n",
    "command_payload = json.dumps(command_dict)\n",
    "print(f\"Command:\\n{command_payload}\\n\")\n",
    "\n",
    "r = requests.post(\n",
    "\turl=openapi.commands_url,\n",
    "\theaders=openapi.HEADERS,\n",
    "\tdata=command_payload,\n",
    "    params={\"waitUntilComplete\": True}\n",
    "\t)\n",
    "\n",
    "print(f\"Response:\\n{r}\\n{r.text}\\n\")"
   ]
  },
  {
   "cell_type": "code",
   "execution_count": 32,
   "metadata": {},
   "outputs": [
    {
     "name": "stdout",
     "output_type": "stream",
     "text": [
      "Command:\n",
      "{\"data\": {\"commandType\": \"dropTip\", \"params\": {\"labwareId\": \"35649278-ee0c-412e-8a6b-c1e6f6144d68\", \"wellName\": \"A1\", \"wellLocation\": {\"origin\": \"top\", \"offset\": {\"x\": 0, \"y\": 0, \"z\": 0}}, \"pipetteId\": \"e2534277-8a57-4760-8ea8-aebbdf19aa17\"}, \"intent\": \"setup\"}}\n",
      "\n",
      "Response:\n",
      "<Response [201]>\n",
      "{\"data\": {\"id\": \"3e0af3fb-2557-470a-87c7-f63c4822a335\", \"createdAt\": \"2024-06-14T07:30:30.261117+00:00\", \"commandType\": \"dropTip\", \"key\": \"3e0af3fb-2557-470a-87c7-f63c4822a335\", \"status\": \"succeeded\", \"params\": {\"pipetteId\": \"e2534277-8a57-4760-8ea8-aebbdf19aa17\", \"labwareId\": \"35649278-ee0c-412e-8a6b-c1e6f6144d68\", \"wellName\": \"A1\", \"wellLocation\": {\"origin\": \"top\", \"offset\": {\"x\": 0.0, \"y\": 0.0, \"z\": 0.0}}, \"alternateDropLocation\": false}, \"result\": {\"position\": {\"x\": 14.38, \"y\": 74.24, \"z\": 64.69}}, \"startedAt\": \"2024-06-14T07:30:30.262871+00:00\", \"completedAt\": \"2024-06-14T07:30:43.309438+00:00\", \"intent\": \"setup\"}}\n",
      "\n"
     ]
    }
   ],
   "source": [
    "command_dict = {\n",
    "\t\"data\": {\n",
    "\t\t\"commandType\": \"dropTip\",\n",
    "\t\t\"params\": {\n",
    "\t\t\t\"labwareId\": labware_1_id,\n",
    "\t\t\t\"wellName\": \"A1\",\n",
    "\t\t\t\"wellLocation\": {\n",
    "\t\t\t\t\"origin\": \"top\", \"offset\": {\"x\": 0, \"y\": 0, \"z\": 0}\n",
    "\t\t\t},\n",
    "\t\t\t\"pipetteId\": openapi.pipette_id\n",
    "\t\t},\n",
    "\t\t\"intent\": \"setup\"\n",
    "\t}\n",
    "}\n",
    "\n",
    "command_payload = json.dumps(command_dict)\n",
    "print(f\"Command:\\n{command_payload}\\n\")\n",
    "\n",
    "r = requests.post(\n",
    "\turl=openapi.commands_url,\n",
    "\theaders=openapi.HEADERS,\n",
    "\tdata=command_payload,\n",
    "    params={\"waitUntilComplete\": True}\n",
    "\t)\n",
    "\n",
    "print(f\"Response:\\n{r}\\n{r.text}\\n\")"
   ]
  },
  {
   "cell_type": "markdown",
   "metadata": {},
   "source": [
    "# Drafts"
   ]
  },
  {
   "cell_type": "markdown",
   "metadata": {},
   "source": [
    "### New run"
   ]
  },
  {
   "cell_type": "code",
   "execution_count": 4,
   "metadata": {},
   "outputs": [
    {
     "name": "stdout",
     "output_type": "stream",
     "text": [
      "Command:\n",
      "http://169.254.241.245:31950/runs\n",
      "Run ID:\n",
      "4c6983d8-a7d1-48d8-8d3d-2d673a28de45\n"
     ]
    }
   ],
   "source": [
    "ROBOT_IP = \"169.254.241.245\"\n",
    "HEADERS = {\"opentrons-version\": \"3\"}\n",
    "PIPETTE = \"p300_single_gen2\"\n",
    "\n",
    "runs_url = f\"http://{ROBOT_IP}:31950/runs\"\n",
    "print(f\"Command:\\n{runs_url}\")\n",
    "\n",
    "r = requests.post(\n",
    "\turl=runs_url,\n",
    "\theaders=HEADERS\n",
    "\t)\n",
    "\n",
    "r_dict = json.loads(r.text)\n",
    "run_id = r_dict[\"data\"][\"id\"]\n",
    "print(f\"Run ID:\\n{run_id}\")"
   ]
  },
  {
   "cell_type": "code",
   "execution_count": 43,
   "metadata": {},
   "outputs": [],
   "source": [
    "dct = json.loads(r.text)"
   ]
  },
  {
   "cell_type": "code",
   "execution_count": 47,
   "metadata": {},
   "outputs": [
    {
     "data": {
      "text/plain": [
       "{'data': [{'id': '004afff6-abb6-41a9-83ea-af51b27c6679',\n",
       "   'createdAt': '2024-05-14T22:57:29.228454+00:00',\n",
       "   'status': 'stopped',\n",
       "   'current': False,\n",
       "   'actions': [{'id': 'f90cf8ec-2cfd-4a53-b424-42e876289d00',\n",
       "     'createdAt': '2024-05-14T22:59:01.712987+00:00',\n",
       "     'actionType': 'stop'}],\n",
       "   'errors': [],\n",
       "   'pipettes': [],\n",
       "   'modules': [],\n",
       "   'labware': [{'id': 'fixedTrash',\n",
       "     'loadName': 'opentrons_1_trash_1100ml_fixed',\n",
       "     'definitionUri': 'opentrons/opentrons_1_trash_1100ml_fixed/1',\n",
       "     'location': {'slotName': '12'}}],\n",
       "   'liquids': [],\n",
       "   'labwareOffsets': [],\n",
       "   'protocolId': 'dafb7d77-8245-448d-9864-27fa1e3137d5',\n",
       "   'completedAt': '2024-05-14T22:59:07.519077+00:00'},\n",
       "  {'id': 'ab5ad4a9-1402-4363-8e24-2d7b92848419',\n",
       "   'createdAt': '2024-05-14T23:13:33.743584+00:00',\n",
       "   'status': 'stopped',\n",
       "   'current': False,\n",
       "   'actions': [{'id': 'be6c7173-a7f6-42b1-b42f-3362f86a802a',\n",
       "     'createdAt': '2024-05-14T23:14:40.905255+00:00',\n",
       "     'actionType': 'play'},\n",
       "    {'id': 'b6311008-bd3c-4191-bc11-2ed9ca35a78b',\n",
       "     'createdAt': '2024-05-14T23:15:12.630677+00:00',\n",
       "     'actionType': 'stop'}],\n",
       "   'errors': [],\n",
       "   'pipettes': [{'id': 'pipette-0',\n",
       "     'pipetteName': 'p300_single_gen2',\n",
       "     'mount': 'left'}],\n",
       "   'modules': [],\n",
       "   'labware': [{'id': 'fixedTrash',\n",
       "     'loadName': 'opentrons_1_trash_1100ml_fixed',\n",
       "     'definitionUri': 'opentrons/opentrons_1_trash_1100ml_fixed/1',\n",
       "     'location': {'slotName': '12'}},\n",
       "    {'id': 'labware-0',\n",
       "     'loadName': 'vwr_96_tiprack_200ul',\n",
       "     'definitionUri': 'custom_beta/vwr_96_tiprack_200ul/1',\n",
       "     'location': {'slotName': '5'},\n",
       "     'displayName': 'VWR 96 Tip Rack 200 µL'}],\n",
       "   'liquids': [],\n",
       "   'labwareOffsets': [],\n",
       "   'protocolId': 'e40e72fa-9362-4434-adcc-b72c6c67ed71',\n",
       "   'completedAt': '2024-05-14T23:15:38.496178+00:00',\n",
       "   'startedAt': '2024-05-14T23:14:40.963983+00:00'},\n",
       "  {'id': '8140a817-76ce-4284-9a7a-38543cb3b525',\n",
       "   'createdAt': '2024-05-14T23:15:59.592774+00:00',\n",
       "   'status': 'stopped',\n",
       "   'current': False,\n",
       "   'actions': [{'id': 'd3432074-2ddf-4e5b-9fc2-d8ad29d2b12d',\n",
       "     'createdAt': '2024-05-14T23:16:08.395797+00:00',\n",
       "     'actionType': 'play'},\n",
       "    {'id': '85458837-292f-46cf-89d9-d35ee2f5ce18',\n",
       "     'createdAt': '2024-05-14T23:17:37.142543+00:00',\n",
       "     'actionType': 'stop'}],\n",
       "   'errors': [],\n",
       "   'pipettes': [{'id': 'pipette-0',\n",
       "     'pipetteName': 'p300_single_gen2',\n",
       "     'mount': 'left'}],\n",
       "   'modules': [],\n",
       "   'labware': [{'id': 'fixedTrash',\n",
       "     'loadName': 'opentrons_1_trash_1100ml_fixed',\n",
       "     'definitionUri': 'opentrons/opentrons_1_trash_1100ml_fixed/1',\n",
       "     'location': {'slotName': '12'}},\n",
       "    {'id': 'labware-0',\n",
       "     'loadName': 'vwr_96_tiprack_200ul',\n",
       "     'definitionUri': 'custom_beta/vwr_96_tiprack_200ul/1',\n",
       "     'location': {'slotName': '5'},\n",
       "     'displayName': 'VWR 96 Tip Rack 200 µL'}],\n",
       "   'liquids': [],\n",
       "   'labwareOffsets': [],\n",
       "   'protocolId': 'e40e72fa-9362-4434-adcc-b72c6c67ed71',\n",
       "   'completedAt': '2024-05-14T23:18:02.915090+00:00',\n",
       "   'startedAt': '2024-05-14T23:16:08.500085+00:00'},\n",
       "  {'id': '36bc52c0-89ae-4aad-a2e2-0b574ce4ca6a',\n",
       "   'createdAt': '2024-05-23T02:28:56.877027+00:00',\n",
       "   'status': 'succeeded',\n",
       "   'current': False,\n",
       "   'actions': [{'id': '87745fde-23bb-48ca-899e-4c06f5e7c306',\n",
       "     'createdAt': '2024-05-23T02:45:31.516703+00:00',\n",
       "     'actionType': 'play'}],\n",
       "   'errors': [],\n",
       "   'pipettes': [{'id': '56e9ac77-a129-4065-b8dc-a170656ace21',\n",
       "     'pipetteName': 'p300_single_gen2',\n",
       "     'mount': 'left'}],\n",
       "   'modules': [],\n",
       "   'labware': [],\n",
       "   'liquids': [],\n",
       "   'labwareOffsets': [],\n",
       "   'completedAt': '2024-05-23T02:46:03.163476+00:00',\n",
       "   'startedAt': '2024-05-23T02:45:44.214095+00:00'},\n",
       "  {'id': '8ae086b9-175b-43c8-ab25-425f72f041b1',\n",
       "   'createdAt': '2024-05-23T02:50:57.408304+00:00',\n",
       "   'status': 'succeeded',\n",
       "   'current': False,\n",
       "   'actions': [{'id': '32d87399-2582-41dc-b4a4-5e9930645bc4',\n",
       "     'createdAt': '2024-05-23T02:53:39.749974+00:00',\n",
       "     'actionType': 'play'}],\n",
       "   'errors': [],\n",
       "   'pipettes': [{'id': 'f7d783c4-e576-4158-8fd6-6dfd42b795fe',\n",
       "     'pipetteName': 'p300_single_gen2',\n",
       "     'mount': 'left'}],\n",
       "   'modules': [],\n",
       "   'labware': [],\n",
       "   'liquids': [],\n",
       "   'labwareOffsets': [],\n",
       "   'completedAt': '2024-05-23T02:54:11.393245+00:00',\n",
       "   'startedAt': '2024-05-23T02:53:52.471977+00:00'},\n",
       "  {'id': 'ae3d3d85-103c-4d19-ae35-d9e8f59d5fce',\n",
       "   'createdAt': '2024-05-23T04:24:38.757268+00:00',\n",
       "   'status': 'succeeded',\n",
       "   'current': False,\n",
       "   'actions': [{'id': 'a52d6ad8-3d81-4d39-8d19-57db0cae4d75',\n",
       "     'createdAt': '2024-05-23T04:52:13.349659+00:00',\n",
       "     'actionType': 'play'}],\n",
       "   'errors': [],\n",
       "   'pipettes': [{'id': '117e9678-5a5e-431a-a170-2a3054f05093',\n",
       "     'pipetteName': 'p300_single_gen2',\n",
       "     'mount': 'left'}],\n",
       "   'modules': [],\n",
       "   'labware': [],\n",
       "   'liquids': [],\n",
       "   'labwareOffsets': [],\n",
       "   'completedAt': '2024-05-23T04:52:45.172510+00:00',\n",
       "   'startedAt': '2024-05-23T04:52:26.206644+00:00'},\n",
       "  {'id': '985cee8d-c821-4335-a634-d7e1a92af8b6',\n",
       "   'createdAt': '2024-06-13T23:54:19.925065+00:00',\n",
       "   'status': 'failed',\n",
       "   'current': False,\n",
       "   'actions': [{'id': '00d5e1a8-2a23-4017-8226-5997a92789c6',\n",
       "     'createdAt': '2024-06-13T23:55:13.472384+00:00',\n",
       "     'actionType': 'play'}],\n",
       "   'errors': [{'id': '5357b73c-49d6-41ca-b5f1-986fabeacafc',\n",
       "     'createdAt': '2024-06-13T23:55:27.924689+00:00',\n",
       "     'errorCode': '4000',\n",
       "     'errorType': 'PythonException',\n",
       "     'detail': 'opentrons.drivers.smoothie_drivers.errors.SmoothieError: SmoothieError: M907 A0.1 B0.3 C0.05 X1.25 Y1.25 Z0.5 G4 P0.005 G0 X34.559 Y207.51 Z369.25 \\r\\n\\r\\n returned ALARM: Hard limit +Z',\n",
       "     'errorInfo': {'args': '()',\n",
       "      'command': 'M907 A0.1 B0.3 C0.05 X1.25 Y1.25 Z0.5 G4 P0.005 G0 X34.559 Y207.51 Z369.25 \\r\\n\\r\\n',\n",
       "      'ret_code': 'ALARM: Hard limit +Z',\n",
       "      'traceback': '  File \"/usr/lib/python3.10/site-packages/opentrons/protocol_engine/execution/command_executor.py\", line 116, in execute\\n\\n  File \"/usr/lib/python3.10/site-packages/opentrons/protocol_engine/commands/move_to_coordinates.py\", line 48, in execute\\n\\n  File \"/usr/lib/python3.10/site-packages/opentrons/protocol_engine/execution/movement.py\", line 274, in move_to_coordinates\\n\\n  File \"/usr/lib/python3.10/site-packages/opentrons/protocol_engine/execution/gantry_mover.py\", line 136, in move_to\\n\\n  File \"/usr/lib/python3.10/site-packages/opentrons/hardware_control/thread_manager.py\", line 149, in wrapper\\n\\n  File \"/usr/lib/python3.10/site-packages/opentrons/hardware_control/thread_manager.py\", line 52, in call_coroutine_threadsafe\\n\\n  File \"/usr/lib/python3.10/site-packages/opentrons/hardware_control/api.py\", line 766, in move_to\\n\\n  File \"/usr/lib/python3.10/site-packages/opentrons/hardware_control/execution_manager.py\", line 146, in replace\\n\\n  File \"/usr/lib/python3.10/site-packages/opentrons/hardware_control/api.py\", line 892, in _move\\n\\n  File \"/usr/lib/python3.10/site-packages/opentrons/hardware_control/backends/controller.py\", line 182, in move\\n\\n  File \"/usr/lib/python3.10/site-packages/opentrons/drivers/smoothie_drivers/driver_3_0.py\", line 1407, in move\\n\\n  File \"/usr/lib/python3.10/site-packages/opentrons/drivers/smoothie_drivers/driver_3_0.py\", line 885, in _send_command\\n',\n",
       "      'class': 'SmoothieError'},\n",
       "     'wrappedErrors': [{'id': '5357b73c-49d6-41ca-b5f1-986fabeacafc',\n",
       "       'createdAt': '2024-06-13T23:55:27.924689+00:00',\n",
       "       'errorCode': '4000',\n",
       "       'errorType': 'PythonException',\n",
       "       'detail': 'opentrons.drivers.smoothie_drivers.errors.SmoothieError: SmoothieError: None returned ALARM: Hard limit +Z',\n",
       "       'errorInfo': {'args': '()',\n",
       "        'command': 'None',\n",
       "        'ret_code': 'ALARM: Hard limit +Z',\n",
       "        'traceback': '  File \"/usr/lib/python3.10/site-packages/opentrons/drivers/smoothie_drivers/driver_3_0.py\", line 866, in _send_command\\n\\n  File \"/usr/lib/python3.10/site-packages/opentrons/drivers/smoothie_drivers/driver_3_0.py\", line 903, in _send_command_unsynchronized\\n\\n  File \"/usr/lib/python3.10/site-packages/opentrons/drivers/smoothie_drivers/driver_3_0.py\", line 946, in _handle_return\\n',\n",
       "        'class': 'SmoothieError'},\n",
       "       'wrappedErrors': [{'id': '5357b73c-49d6-41ca-b5f1-986fabeacafc',\n",
       "         'createdAt': '2024-06-13T23:55:27.924689+00:00',\n",
       "         'errorCode': '4000',\n",
       "         'errorType': 'PythonException',\n",
       "         'detail': \"opentrons.drivers.asyncio.communication.errors.AlarmResponse: /dev/ttyAMA0: 'Received error response 'ALARM: Hard limit +Z'\",\n",
       "         'errorInfo': {'args': '(\"/dev/ttyAMA0: \\'Received error response \\'ALARM: Hard limit +Z\\'\",)',\n",
       "          'description': \"'Received error response 'ALARM: Hard limit +Z'\",\n",
       "          'port': '/dev/ttyAMA0',\n",
       "          'response': 'ALARM: Hard limit +Z',\n",
       "          'traceback': '  File \"/usr/lib/python3.10/site-packages/opentrons/drivers/smoothie_drivers/driver_3_0.py\", line 899, in _send_command_unsynchronized\\n\\n  File \"/usr/lib/python3.10/site-packages/opentrons/drivers/asyncio/communication/serial_connection.py\", line 135, in send_command\\n\\n  File \"/usr/lib/python3.10/site-packages/opentrons/drivers/asyncio/communication/serial_connection.py\", line 170, in send_data\\n\\n  File \"/usr/lib/python3.10/site-packages/opentrons/drivers/asyncio/communication/serial_connection.py\", line 202, in _send_data\\n\\n  File \"/usr/lib/python3.10/site-packages/opentrons/drivers/asyncio/communication/serial_connection.py\", line 249, in raise_on_error\\n',\n",
       "          'class': 'AlarmResponse'},\n",
       "         'wrappedErrors': []}]}]}],\n",
       "   'pipettes': [{'id': '6dd2e97c-d522-4d36-b003-6b4cbe970aa4',\n",
       "     'pipetteName': 'p300_single_gen2',\n",
       "     'mount': 'left'}],\n",
       "   'modules': [],\n",
       "   'labware': [],\n",
       "   'liquids': [],\n",
       "   'labwareOffsets': [],\n",
       "   'completedAt': '2024-06-13T23:55:46.951398+00:00',\n",
       "   'startedAt': '2024-06-13T23:55:26.092738+00:00'},\n",
       "  {'id': '4b6d89da-9948-416c-8d7c-832acedffe17',\n",
       "   'createdAt': '2024-06-14T00:31:11.720772+00:00',\n",
       "   'status': 'stopped',\n",
       "   'current': False,\n",
       "   'actions': [],\n",
       "   'errors': [],\n",
       "   'pipettes': [{'id': '7a2e5d6a-1408-4d42-a281-49612c1549ac',\n",
       "     'pipetteName': 'p300_single_gen2',\n",
       "     'mount': 'left'}],\n",
       "   'modules': [],\n",
       "   'labware': [],\n",
       "   'liquids': [],\n",
       "   'labwareOffsets': [],\n",
       "   'completedAt': '2024-06-14T01:19:43.670750+00:00'},\n",
       "  {'id': '1137fe37-7fe4-4115-b904-4a6d50cdf7a6',\n",
       "   'createdAt': '2024-06-14T01:19:38.047054+00:00',\n",
       "   'status': 'idle',\n",
       "   'current': True,\n",
       "   'actions': [],\n",
       "   'errors': [],\n",
       "   'pipettes': [],\n",
       "   'modules': [],\n",
       "   'labware': [],\n",
       "   'liquids': [],\n",
       "   'labwareOffsets': []}],\n",
       " 'links': {'current': {'href': '/runs/1137fe37-7fe4-4115-b904-4a6d50cdf7a6'}},\n",
       " 'meta': {'cursor': 0, 'totalLength': 9}}"
      ]
     },
     "execution_count": 47,
     "metadata": {},
     "output_type": "execute_result"
    }
   ],
   "source": [
    "dct"
   ]
  },
  {
   "cell_type": "code",
   "execution_count": 48,
   "metadata": {},
   "outputs": [
    {
     "name": "stdout",
     "output_type": "stream",
     "text": [
      "1137fe37-7fe4-4115-b904-4a6d50cdf7a6\n"
     ]
    }
   ],
   "source": [
    "for thing in dct['data']:\n",
    "    if thing['current'] == True:\n",
    "        print(thing['id'])"
   ]
  },
  {
   "cell_type": "markdown",
   "metadata": {},
   "source": [
    "### Get position"
   ]
  },
  {
   "cell_type": "code",
   "execution_count": 53,
   "metadata": {},
   "outputs": [
    {
     "data": {
      "text/plain": [
       "{'positions': {'change_pipette': {'target': 'mount',\n",
       "   'left': [300.0, 40.0, 30.0],\n",
       "   'right': [95.0, 40.0, 30.0]},\n",
       "  'attach_tip': {'target': 'pipette', 'point': [200.0, 90.0, 150.0]}}}"
      ]
     },
     "execution_count": 53,
     "metadata": {},
     "output_type": "execute_result"
    }
   ],
   "source": [
    "positions_url = f\"http://{openapi.ROBOT_IP}:31950/robot/positions\"\n",
    "r = requests.get(\n",
    "    url=positions_url,\n",
    "    headers=openapi.HEADERS)\n",
    "json.loads(r.text)"
   ]
  },
  {
   "cell_type": "markdown",
   "metadata": {},
   "source": [
    "### Setup pipette"
   ]
  },
  {
   "cell_type": "code",
   "execution_count": 6,
   "metadata": {},
   "outputs": [
    {
     "name": "stdout",
     "output_type": "stream",
     "text": [
      "Command:\n",
      "{\"data\": {\"commandType\": \"loadPipette\", \"params\": {\"pipetteName\": \"p300_single_gen2\", \"mount\": \"left\"}, \"intent\": \"setup\"}}\n",
      "Pipette ID:\n",
      "1b1c1005-4367-4eef-9d01-f5f968c63006\n",
      "\n"
     ]
    }
   ],
   "source": [
    "commands_url = f\"{runs_url}/{run_id}/commands\"\n",
    "\n",
    "command_dict = {\n",
    "\t\"data\": {\n",
    "\t\t\"commandType\": \"loadPipette\",\n",
    "\t\t\"params\": {\n",
    "\t\t\t\"pipetteName\": PIPETTE,\n",
    "\t\t\t\"mount\": \"left\"\n",
    "\t\t},\n",
    "\t\t\"intent\": \"setup\"\n",
    "\t}\n",
    "}\n",
    "\n",
    "command_payload = json.dumps(command_dict)\n",
    "print(f\"Command:\\n{command_payload}\")\n",
    "\n",
    "r = requests.post(\n",
    "\turl=commands_url,\n",
    "\theaders=HEADERS,\n",
    "\tparams={\"waitUntilComplete\": True},\n",
    "\tdata=command_payload\n",
    "\t)\n",
    "\n",
    "r_dict = json.loads(r.text)\n",
    "pipette_id = r_dict[\"data\"][\"result\"][\"pipetteId\"]\n",
    "print(f\"Pipette ID:\\n{pipette_id}\\n\")"
   ]
  },
  {
   "cell_type": "markdown",
   "metadata": {},
   "source": [
    "### Home robot"
   ]
  },
  {
   "cell_type": "code",
   "execution_count": 7,
   "metadata": {},
   "outputs": [
    {
     "name": "stdout",
     "output_type": "stream",
     "text": [
      "Command:\n",
      "{\"target\": \"robot\"}\n",
      "Response:\n",
      "<Response [200]>\n",
      "{\"message\":\"Homing robot.\"}\n",
      "\n"
     ]
    }
   ],
   "source": [
    "home_url = f\"http://{ROBOT_IP}:31950/robot/home\"\n",
    "command_dict = {\"target\": \"robot\"}\n",
    "command_payload = json.dumps(command_dict)\n",
    "print(f\"Command:\\n{command_payload}\")\n",
    "\n",
    "r = requests.post(\n",
    "\turl=home_url,\n",
    "\theaders=HEADERS,\n",
    "\tdata=command_payload\n",
    "\t)\n",
    "\n",
    "print(f\"Response:\\n{r}\\n{r.text}\\n\")"
   ]
  },
  {
   "cell_type": "code",
   "execution_count": 18,
   "metadata": {},
   "outputs": [
    {
     "name": "stdout",
     "output_type": "stream",
     "text": [
      "Response:\n",
      "<Response [200]>\n",
      "{\"message\":\"Pipette on left homed successfully\"}\n",
      "\n"
     ]
    }
   ],
   "source": [
    "move_url = f\"http://{ROBOT_IP}:31950/robot/move\"\n",
    "command_dict = {\"target\":\"pipette\",\n",
    "                \"point\":[100,100,80],\n",
    "                \"mount\":\"left\"}\n",
    "command_payload = json.dumps(command_dict)\n",
    "\n",
    "r = requests.post(\n",
    "\turl=home_url,\n",
    "\theaders=HEADERS,\n",
    "\tdata=command_payload\n",
    "\t)\n",
    "\n",
    "print(f\"Response:\\n{r}\\n{r.text}\\n\")"
   ]
  },
  {
   "cell_type": "code",
   "execution_count": 9,
   "metadata": {},
   "outputs": [
    {
     "name": "stdout",
     "output_type": "stream",
     "text": [
      "Command:\n",
      "{\"data\": {\"commandType\": \"moveToCoordinates\", \"params\": {\"coordinates\": {\"x\": 200, \"y\": 100, \"z\": 150}, \"minimumZHeight\": 20, \"forceDirect\": true, \"pipetteId\": \"1b1c1005-4367-4eef-9d01-f5f968c63006\"}, \"intent\": \"setup\"}}\n",
      "\n"
     ]
    },
    {
     "data": {
      "text/plain": [
       "{'data': {'id': '3f13ec65-ddcd-4b84-ab0c-19a4f42c8ff7',\n",
       "  'createdAt': '2024-06-14T03:26:26.246412+00:00',\n",
       "  'commandType': 'moveToCoordinates',\n",
       "  'key': '3f13ec65-ddcd-4b84-ab0c-19a4f42c8ff7',\n",
       "  'status': 'succeeded',\n",
       "  'params': {'minimumZHeight': 20.0,\n",
       "   'forceDirect': True,\n",
       "   'pipetteId': '1b1c1005-4367-4eef-9d01-f5f968c63006',\n",
       "   'coordinates': {'x': 200.0, 'y': 100.0, 'z': 150.0}},\n",
       "  'result': {'position': {'x': 200.0, 'y': 100.0, 'z': 150.0}},\n",
       "  'startedAt': '2024-06-14T03:26:26.247949+00:00',\n",
       "  'completedAt': '2024-06-14T03:26:26.780252+00:00',\n",
       "  'intent': 'setup'}}"
      ]
     },
     "execution_count": 9,
     "metadata": {},
     "output_type": "execute_result"
    }
   ],
   "source": [
    "command_dict = {\n",
    "\t\"data\": {\n",
    "\t\t\"commandType\": \"moveToCoordinates\",\n",
    "\t\t\"params\": {\n",
    "\t\t\t\"coordinates\": {\"x\": 200, \"y\": 100, \"z\": 150},\n",
    "\t\t\t\"minimumZHeight\": 20,\n",
    "\t\t\t\"forceDirect\": True,\n",
    "\t\t\t\"pipetteId\": pipette_id\n",
    "\t\t},\n",
    "\t\t\"intent\": \"setup\"\n",
    "\t}\n",
    "}\n",
    "\n",
    "command_payload = json.dumps(command_dict)\n",
    "print(f\"Command:\\n{command_payload}\\n\")\n",
    "\n",
    "r = requests.post(\n",
    "\turl=commands_url,\n",
    "\theaders=HEADERS,\n",
    "\tdata=command_payload,\n",
    "    params={\"waitUntilComplete\": True}\n",
    "\t)\n",
    "\n",
    "json.loads(r.text)\n",
    "# print(f\"Response:\\n{r}\\n{r.text}\\n\")"
   ]
  }
 ],
 "metadata": {
  "kernelspec": {
   "display_name": "lab",
   "language": "python",
   "name": "python3"
  },
  "language_info": {
   "codemirror_mode": {
    "name": "ipython",
    "version": 3
   },
   "file_extension": ".py",
   "mimetype": "text/x-python",
   "name": "python",
   "nbconvert_exporter": "python",
   "pygments_lexer": "ipython3",
   "version": "3.12.3"
  }
 },
 "nbformat": 4,
 "nbformat_minor": 2
}
